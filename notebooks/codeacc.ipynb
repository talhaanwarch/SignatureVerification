{
 "cells": [
  {
   "cell_type": "code",
   "execution_count": 1,
   "id": "e23e9f13",
   "metadata": {},
   "outputs": [],
   "source": [
    "import cv2\n",
    "import os\n",
    "import numpy as np \n",
    "import pandas as pd\n",
    "from glob import glob\n",
    "from PIL import Image\n",
    "import matplotlib.pyplot as plt\n",
    "from sklearn.model_selection import KFold,GroupKFold\n",
    "\n",
    "import albumentations as A\n",
    "from albumentations.pytorch import ToTensorV2\n",
    "import random\n",
    "import timm\n",
    "import torchmetrics\n",
    "import torch\n",
    "import torch.nn as nn\n",
    "import torchvision\n",
    "import pytorch_lightning as PL\n",
    "from torch.utils.data.dataloader import DataLoader,Dataset\n",
    "from pytorch_lightning.callbacks import EarlyStopping,ModelCheckpoint,LearningRateMonitor\n",
    "from torch.optim.lr_scheduler import  ReduceLROnPlateau,CosineAnnealingWarmRestarts,CosineAnnealingLR\n",
    "from pytorch_lightning import seed_everything, LightningModule, Trainer\n"
   ]
  },
  {
   "cell_type": "code",
   "execution_count": 2,
   "id": "1d932f36",
   "metadata": {},
   "outputs": [],
   "source": [
    "#images are chosed randomly"
   ]
  },
  {
   "cell_type": "code",
   "execution_count": 3,
   "id": "1dd8371b",
   "metadata": {},
   "outputs": [
    {
     "name": "stdout",
     "output_type": "stream",
     "text": [
      "train 391381\n",
      "test 750\n"
     ]
    },
    {
     "data": {
      "text/html": [
       "<div>\n",
       "<style scoped>\n",
       "    .dataframe tbody tr th:only-of-type {\n",
       "        vertical-align: middle;\n",
       "    }\n",
       "\n",
       "    .dataframe tbody tr th {\n",
       "        vertical-align: top;\n",
       "    }\n",
       "\n",
       "    .dataframe thead th {\n",
       "        text-align: right;\n",
       "    }\n",
       "</style>\n",
       "<table border=\"1\" class=\"dataframe\">\n",
       "  <thead>\n",
       "    <tr style=\"text-align: right;\">\n",
       "      <th></th>\n",
       "      <th>real_path</th>\n",
       "      <th>real_label</th>\n",
       "      <th>real_id</th>\n",
       "      <th>real_idx</th>\n",
       "      <th>forged_path</th>\n",
       "      <th>forged_label</th>\n",
       "      <th>forged_id</th>\n",
       "      <th>forged_idx</th>\n",
       "      <th>data</th>\n",
       "    </tr>\n",
       "  </thead>\n",
       "  <tbody>\n",
       "    <tr>\n",
       "      <th>0</th>\n",
       "      <td>../../SiameseData/ICDAR2011/trainingSet/Offlin...</td>\n",
       "      <td>real</td>\n",
       "      <td>1</td>\n",
       "      <td>1</td>\n",
       "      <td>../../SiameseData/ICDAR2011/trainingSet/Offlin...</td>\n",
       "      <td>forge</td>\n",
       "      <td>1</td>\n",
       "      <td>1</td>\n",
       "      <td>dutch</td>\n",
       "    </tr>\n",
       "    <tr>\n",
       "      <th>1</th>\n",
       "      <td>../../SiameseData/ICDAR2011/trainingSet/Offlin...</td>\n",
       "      <td>real</td>\n",
       "      <td>1</td>\n",
       "      <td>1</td>\n",
       "      <td>../../SiameseData/ICDAR2011/trainingSet/Offlin...</td>\n",
       "      <td>forge</td>\n",
       "      <td>1</td>\n",
       "      <td>2</td>\n",
       "      <td>dutch</td>\n",
       "    </tr>\n",
       "    <tr>\n",
       "      <th>2</th>\n",
       "      <td>../../SiameseData/ICDAR2011/trainingSet/Offlin...</td>\n",
       "      <td>real</td>\n",
       "      <td>1</td>\n",
       "      <td>1</td>\n",
       "      <td>../../SiameseData/ICDAR2011/trainingSet/Offlin...</td>\n",
       "      <td>forge</td>\n",
       "      <td>1</td>\n",
       "      <td>3</td>\n",
       "      <td>dutch</td>\n",
       "    </tr>\n",
       "    <tr>\n",
       "      <th>3</th>\n",
       "      <td>../../SiameseData/ICDAR2011/trainingSet/Offlin...</td>\n",
       "      <td>real</td>\n",
       "      <td>1</td>\n",
       "      <td>1</td>\n",
       "      <td>../../SiameseData/ICDAR2011/trainingSet/Offlin...</td>\n",
       "      <td>forge</td>\n",
       "      <td>1</td>\n",
       "      <td>4</td>\n",
       "      <td>dutch</td>\n",
       "    </tr>\n",
       "    <tr>\n",
       "      <th>4</th>\n",
       "      <td>../../SiameseData/ICDAR2011/trainingSet/Offlin...</td>\n",
       "      <td>real</td>\n",
       "      <td>1</td>\n",
       "      <td>1</td>\n",
       "      <td>../../SiameseData/ICDAR2011/trainingSet/Offlin...</td>\n",
       "      <td>forge</td>\n",
       "      <td>1</td>\n",
       "      <td>1</td>\n",
       "      <td>dutch</td>\n",
       "    </tr>\n",
       "  </tbody>\n",
       "</table>\n",
       "</div>"
      ],
      "text/plain": [
       "                                           real_path real_label  real_id  \\\n",
       "0  ../../SiameseData/ICDAR2011/trainingSet/Offlin...       real        1   \n",
       "1  ../../SiameseData/ICDAR2011/trainingSet/Offlin...       real        1   \n",
       "2  ../../SiameseData/ICDAR2011/trainingSet/Offlin...       real        1   \n",
       "3  ../../SiameseData/ICDAR2011/trainingSet/Offlin...       real        1   \n",
       "4  ../../SiameseData/ICDAR2011/trainingSet/Offlin...       real        1   \n",
       "\n",
       "   real_idx                                        forged_path forged_label  \\\n",
       "0         1  ../../SiameseData/ICDAR2011/trainingSet/Offlin...        forge   \n",
       "1         1  ../../SiameseData/ICDAR2011/trainingSet/Offlin...        forge   \n",
       "2         1  ../../SiameseData/ICDAR2011/trainingSet/Offlin...        forge   \n",
       "3         1  ../../SiameseData/ICDAR2011/trainingSet/Offlin...        forge   \n",
       "4         1  ../../SiameseData/ICDAR2011/trainingSet/Offlin...        forge   \n",
       "\n",
       "   forged_id  forged_idx   data  \n",
       "0          1           1  dutch  \n",
       "1          1           2  dutch  \n",
       "2          1           3  dutch  \n",
       "3          1           4  dutch  \n",
       "4          1           1  dutch  "
      ]
     },
     "execution_count": 3,
     "metadata": {},
     "output_type": "execute_result"
    }
   ],
   "source": [
    "import pandas as pd\n",
    "\n",
    "dutch_train_df=pd.read_csv('../csv/dutch.csv')\n",
    "chinese_train_df=pd.read_csv('../csv/chinese.csv')\n",
    "all_df=pd.read_csv('../csv/all_data.csv')\n",
    "#train_df=dutch_train_df\n",
    "dutch_test_df=pd.read_csv('../csv/test_dutch.csv')\n",
    "chinese_test_df=pd.read_csv('../csv/test_chinese.csv')\n",
    "\n",
    "train_df=pd.concat([dutch_train_df,chinese_train_df,all_df,dutch_test_df,chinese_test_df])\n",
    "\n",
    "test_df=pd.read_csv('../csv/test_data.csv')\n",
    "\n",
    "# test_df=pd.concat([dutch_test_df,chinese_test_df])\n",
    "#test_df=dutch_test_df\n",
    "print('train',len(train_df))\n",
    "print('test',len(test_df))\n",
    "\n",
    "train_df.head()\n",
    "#real id:writer\n",
    "#real_idx: attempt"
   ]
  },
  {
   "cell_type": "code",
   "execution_count": 4,
   "id": "fed91ce0",
   "metadata": {},
   "outputs": [
    {
     "data": {
      "text/plain": [
       "(12888, 16041)"
      ]
     },
     "execution_count": 4,
     "metadata": {},
     "output_type": "execute_result"
    }
   ],
   "source": [
    "train_df_real=train_df[['real_path','data','real_id']].drop_duplicates().reset_index(drop=True)\n",
    "train_df_forged=train_df[['forged_path','data','forged_id']].drop_duplicates().reset_index(drop=True)\n",
    "len(train_df_real),len(train_df_forged)"
   ]
  },
  {
   "cell_type": "code",
   "execution_count": 5,
   "id": "382aade3",
   "metadata": {},
   "outputs": [
    {
     "data": {
      "text/plain": [
       "(150, 150)"
      ]
     },
     "execution_count": 5,
     "metadata": {},
     "output_type": "execute_result"
    }
   ],
   "source": [
    "test_df_real=test_df[['real_path','data','real_id']].drop_duplicates().reset_index(drop=True)\n",
    "test_df_forged=test_df[['forged_path','data','forged_id']].drop_duplicates().reset_index(drop=True)\n",
    "len(test_df_real),len(test_df_forged)"
   ]
  },
  {
   "cell_type": "code",
   "execution_count": 6,
   "id": "9e3a409e",
   "metadata": {},
   "outputs": [],
   "source": [
    "from albumentations.core.transforms_interface import DualTransform\n",
    "class Erode(DualTransform):\n",
    "\n",
    "    def apply(self, img, **params):\n",
    "        return cv2.erode(img, np.ones((3, 3), np.uint8)) \n",
    "\n",
    "class Dilate(DualTransform):\n",
    "\n",
    "    def apply(self, img, **params):\n",
    "        return cv2.dilate(img, np.ones((3, 3), np.uint8)) "
   ]
  },
  {
   "cell_type": "code",
   "execution_count": 7,
   "id": "cf09b4b3",
   "metadata": {},
   "outputs": [
    {
     "name": "stderr",
     "output_type": "stream",
     "text": [
      "/home/talha/torchenv/lib/python3.8/site-packages/albumentations/augmentations/transforms.py:689: FutureWarning: This class has been deprecated. Please use CoarseDropout\n",
      "  warnings.warn(\n"
     ]
    }
   ],
   "source": [
    "img_size=224\n",
    "import albumentations as A\n",
    "from albumentations.pytorch import ToTensorV2\n",
    "train_aug= A.Compose([\n",
    "            A.Resize(img_size+32,img_size+32),\n",
    "            A.RandomCrop(img_size,img_size),\n",
    "            Erode(p=0.5),\n",
    "            A.ShiftScaleRotate(rotate_limit=10,p=0.5),\n",
    "            A.Cutout(8,4,4),\n",
    "            ToTensorV2(p=1.0),\n",
    "        ], \n",
    "        p=1.0,\n",
    "#         additional_targets={'image0': 'image'}\n",
    "        )\n",
    "test_aug= A.Compose([\n",
    "            A.Resize(img_size,img_size),\n",
    "            ToTensorV2(p=1.0),\n",
    "        ], \n",
    "        p=1.0,\n",
    "#         additional_targets={'image0': 'image'}\n",
    "        )"
   ]
  },
  {
   "cell_type": "code",
   "execution_count": 8,
   "id": "ce2c675b",
   "metadata": {},
   "outputs": [],
   "source": [
    "class SiameseNetworkDataset():\n",
    "    \n",
    "    def __init__(self,real,fake,transform=None):\n",
    "        self.real = real    \n",
    "        self.fake = fake    \n",
    "        self.transform=transform\n",
    "        \n",
    "\n",
    "    def __getitem__(self,index):\n",
    "        img0 = self.real.iloc[index]\n",
    "        #we need to make sure approx 50% of images are in the same class\n",
    "        same_class = random.randint(0,1) \n",
    "        \n",
    "        if same_class:\n",
    "            img1=self.real[(self.real.real_id==img0.real_id) & (self.real.data==img0.data)]\n",
    "            index_1 = random.randint(0, len(img1)-1)\n",
    "            img1=img1.iloc[index_1] #choose another image of same id\n",
    "            img0p=img0.real_path\n",
    "            img1p=img1.real_path\n",
    "#             print('real',img0.real_id,img1.real_id,img0.data,img1.data)\n",
    "            label=torch.zeros(1).long()#images are real from same author\n",
    "        else:\n",
    "            img1=self.fake[(self.fake.forged_id==img0.real_id) & (self.fake.data==img0.data)]#get subset of same id but from forged\n",
    "            index_1 = random.randint(0, len(img1)-1)\n",
    "            img1=img1.iloc[index_1]\n",
    "            img0p=img0.real_path\n",
    "            img1p=img1.forged_path\n",
    "            label=torch.ones(1).long()\n",
    "#             print('forged',img0.real_id,img1.forged_id,img0.data,img1.data)\n",
    "        img0 = np.array(Image.open(img0p).convert(\"L\"))\n",
    "        img1 = np.array(Image.open(img1p).convert(\"L\"))\n",
    "        \n",
    "        img0=self.transform(image=img0)['image']/255\n",
    "        img1=self.transform(image=img1)['image']/255\n",
    "        \n",
    "\n",
    "        return img0, img1 ,label\n",
    "    \n",
    "    def __len__(self):\n",
    "        return len(self.real)"
   ]
  },
  {
   "cell_type": "code",
   "execution_count": 9,
   "id": "18342c8f",
   "metadata": {},
   "outputs": [
    {
     "name": "stdout",
     "output_type": "stream",
     "text": [
      "torch.Size([4, 1, 224, 224]) torch.Size([4, 1, 224, 224])\n"
     ]
    }
   ],
   "source": [
    "sample_reader=SiameseNetworkDataset(train_df_real,train_df_forged,train_aug);    \n",
    "sample_loader = DataLoader(sample_reader,shuffle=False,num_workers=0,batch_size=4)\n",
    "batch=next(iter(sample_loader));\n",
    "print(batch[0].shape,batch[1].shape)"
   ]
  },
  {
   "cell_type": "code",
   "execution_count": 10,
   "id": "4352368a",
   "metadata": {},
   "outputs": [
    {
     "data": {
      "text/plain": [
       "<matplotlib.image.AxesImage at 0x7f2dd93b7130>"
      ]
     },
     "execution_count": 10,
     "metadata": {},
     "output_type": "execute_result"
    },
    {
     "data": {
      "image/png": "[encoded data removed]",
      "text/plain": [
       "<Figure size 1152x1152 with 1 Axes>"
      ]
     },
     "metadata": {
      "needs_background": "light"
     },
     "output_type": "display_data"
    }
   ],
   "source": [
    "plt.figure(figsize=(16,16))\n",
    "grid_img=torchvision.utils.make_grid(batch[0],4,1)\n",
    "plt.imshow(grid_img.permute(1, 2, 0))"
   ]
  },
  {
   "cell_type": "code",
   "execution_count": 11,
   "id": "efd5a61b",
   "metadata": {},
   "outputs": [
    {
     "name": "stdout",
     "output_type": "stream",
     "text": [
      "torch.Size([4, 1, 224, 224]) torch.Size([4, 1, 224, 224])\n"
     ]
    }
   ],
   "source": [
    "sample_reader=SiameseNetworkDataset(train_df_real,train_df_forged,test_aug);    \n",
    "sample_loader = DataLoader(sample_reader,shuffle=False,num_workers=2,batch_size=4)\n",
    "batch=next(iter(sample_loader));\n",
    "print(batch[0].shape,batch[1].shape)"
   ]
  },
  {
   "cell_type": "code",
   "execution_count": 12,
   "id": "06b56906",
   "metadata": {},
   "outputs": [
    {
     "data": {
      "text/plain": [
       "<matplotlib.image.AxesImage at 0x7f2f17bca880>"
      ]
     },
     "execution_count": 12,
     "metadata": {},
     "output_type": "execute_result"
    },
    {
     "data": {
      "image/png": "[encoded data removed]",
      "text/plain": [
       "<Figure size 1152x1152 with 1 Axes>"
      ]
     },
     "metadata": {
      "needs_background": "light"
     },
     "output_type": "display_data"
    }
   ],
   "source": [
    "plt.figure(figsize=(16,16))\n",
    "grid_img=torchvision.utils.make_grid(batch[1],4,1)\n",
    "plt.imshow(grid_img.permute(1, 2, 0))"
   ]
  },
  {
   "cell_type": "code",
   "execution_count": 13,
   "id": "a2e3fd66",
   "metadata": {},
   "outputs": [],
   "source": [
    "import torch\n",
    "class ContrastiveLoss(torch.nn.Module):\n",
    "    def __init__(self, margin=2.0):\n",
    "        super(ContrastiveLoss, self).__init__()\n",
    "        self.margin = margin\n",
    "\n",
    "    def forward(self, distance, label):\n",
    "        loss_contrastive = torch.mean((1-label) * torch.pow(distance, 2) +\n",
    "                                      (label) * torch.pow(torch.clamp(self.margin - distance, min=0.0), 2))\n",
    "\n",
    "        return loss_contrastive\n",
    "    \n",
    "class EuclideanDistance(torch.nn.Module):\n",
    "    def __init__(self, margin=2.0):\n",
    "        super(EuclideanDistance, self).__init__()\n",
    "\n",
    "    def forward(self, output1, output2):\n",
    "        euclidean_distance = torch.nn.functional.pairwise_distance(output1, output2, keepdim = True)\n",
    "        return euclidean_distance"
   ]
  },
  {
   "cell_type": "code",
   "execution_count": 14,
   "id": "ecc4e42f",
   "metadata": {},
   "outputs": [],
   "source": [
    "class OurModel(LightningModule):\n",
    "    def __init__(self):\n",
    "        super(OurModel,self).__init__()\n",
    "        # model architecute\n",
    "        \n",
    "        self.model =  timm.create_model('mobilenetv3_rw',pretrained=True)\n",
    "        self.model.conv_stem=nn.Conv2d(1, 16, kernel_size=(3, 3), stride=(2, 2), padding=(1, 1), bias=False)#mobile\n",
    "        self.model.classifier=nn.Sequential(\n",
    "                              nn.Linear(1280,512),#1536\n",
    "                              nn.BatchNorm1d(512),\n",
    "                              nn.ReLU(),\n",
    "                              nn.Dropout(0.25),\n",
    "                              nn.Linear(512,256),\n",
    "                                nn.BatchNorm1d(256),\n",
    "                              nn.ReLU(),\n",
    "                              nn.Dropout(0.25),\n",
    "                              nn.Linear(256,128),\n",
    "                        )\n",
    "        self.distancelayer=EuclideanDistance()\n",
    "        #parameters\n",
    "        self.lr=1e-3\n",
    "        self.batch_size=72\n",
    "        self.numworker=4\n",
    "        self.criterion=ContrastiveLoss() #loss function\n",
    "        self.accuracy = torchmetrics.Accuracy()\n",
    "        \n",
    "    def forward(self,x1,x2):\n",
    "        x1= self.model(x1)\n",
    "        x2= self.model(x2)\n",
    "        x=self.distancelayer(x1,x2)\n",
    "        return x\n",
    "\n",
    "    \n",
    "    def configure_optimizers(self):\n",
    "        opt=torch.optim.AdamW(params=self.parameters(),lr=self.lr )\n",
    "        scheduler=CosineAnnealingLR(opt,T_max=5,  eta_min=1e-6, last_epoch=-1)\n",
    "        return {'optimizer': opt,'lr_scheduler':scheduler}\n",
    "    \n",
    "    def train_dataloader(self):#load train \n",
    "        return DataLoader(SiameseNetworkDataset(train_df_real,train_df_forged,\\\n",
    "                                                     train_aug),shuffle=True,num_workers=self.numworker,\n",
    "                          batch_size=self.batch_size)\n",
    "\n",
    "    def training_step(self,batch,batch_idx):\n",
    "        image0,image1,label=batch\n",
    "        out = self(image0,image1)#pass images to model\n",
    "        loss=self.criterion(out,label) #calculate loss\n",
    "        acc=self.accuracy(out,label)\n",
    "        \n",
    "        self.log(\"train_loss\", loss, on_step=False,prog_bar=True, on_epoch=True)\n",
    "        self.log(\"train_acc\", acc, on_step=False,prog_bar=True, on_epoch=True)\n",
    "        return loss  # Return tensor to call \".backward\" on\n",
    "\n",
    "        \n",
    "    def val_dataloader(self):\n",
    "        ds=DataLoader(SiameseNetworkDataset(test_df_real,test_df_forged,\n",
    "                                            test_aug),shuffle=False,num_workers=self.numworker,\n",
    "                      batch_size=self.batch_size)\n",
    "        return ds\n",
    "\n",
    "    def validation_step(self,batch,batch_idx):\n",
    "        image0,image1,label=batch\n",
    "        out = self(image0,image1)#pass images to model\n",
    "        loss=self.criterion(out,label) #calculate loss\n",
    "        acc=self.accuracy(out,label)\n",
    "        self.log(\"val_loss\", loss, on_step=False,prog_bar=True, on_epoch=True)\n",
    "        self.log(\"val_acc\", acc, on_step=False,prog_bar=True, on_epoch=True)\n",
    "        return loss  # Return tensor to call \".backward\" on\n"
   ]
  },
  {
   "cell_type": "code",
   "execution_count": 15,
   "id": "fa723f64",
   "metadata": {},
   "outputs": [
    {
     "name": "stdout",
     "output_type": "stream",
     "text": [
      "ls: cannot access 'lightning_logs/version_3/checkpoints': No such file or directory\r\n"
     ]
    }
   ],
   "source": [
    "!ls lightning_logs/version_3/checkpoints"
   ]
  },
  {
   "cell_type": "code",
   "execution_count": 16,
   "id": "055ff09f",
   "metadata": {
    "scrolled": true
   },
   "outputs": [
    {
     "name": "stderr",
     "output_type": "stream",
     "text": [
      "Using 16bit native Automatic Mixed Precision (AMP)\n",
      "/home/talha/torchenv/lib/python3.8/site-packages/pytorch_lightning/trainer/connectors/callback_connector.py:90: LightningDeprecationWarning: Setting `Trainer(progress_bar_refresh_rate=10)` is deprecated in v1.5 and will be removed in v1.7. Please pass `pytorch_lightning.callbacks.progress.TQDMProgressBar` with `refresh_rate` directly to the Trainer's `callbacks` argument instead. Or, to disable the progress bar pass `enable_progress_bar = False` to the Trainer.\n",
      "  rank_zero_deprecation(\n",
      "GPU available: True, used: True\n",
      "TPU available: False, using: 0 TPU cores\n",
      "IPU available: False, using: 0 IPUs\n"
     ]
    }
   ],
   "source": [
    "model=OurModel()\n",
    "lr_monitor = LearningRateMonitor(logging_interval='epoch')\n",
    "trainer = Trainer(max_epochs=30,\n",
    "                    deterministic=True,\n",
    "                    gpus=-1,precision=16,\n",
    "                    accumulate_grad_batches=4,\n",
    "                    progress_bar_refresh_rate=10,\n",
    "                    callbacks=[lr_monitor],\n",
    "                    num_sanity_val_steps=0,\n",
    "                  #resume_from_checkpoint='lightning_logs/version_3/checkpoints/epoch=29-step=2039.ckpt'\n",
    "                    )"
   ]
  },
  {
   "cell_type": "code",
   "execution_count": 17,
   "id": "99715e9e",
   "metadata": {
    "scrolled": true
   },
   "outputs": [
    {
     "name": "stderr",
     "output_type": "stream",
     "text": [
      "LOCAL_RANK: 0 - CUDA_VISIBLE_DEVICES: [0]\n",
      "\n",
      "  | Name          | Type              | Params\n",
      "----------------------------------------------------\n",
      "0 | model         | MobileNetV3       | 5.0 M \n",
      "1 | distancelayer | EuclideanDistance | 0     \n",
      "2 | criterion     | ContrastiveLoss   | 0     \n",
      "3 | accuracy      | Accuracy          | 0     \n",
      "----------------------------------------------------\n",
      "5.0 M     Trainable params\n",
      "0         Non-trainable params\n",
      "5.0 M     Total params\n",
      "10.041    Total estimated model params size (MB)\n"
     ]
    },
    {
     "data": {
      "application/vnd.jupyter.widget-view+json": {
       "model_id": "f66d5d3012b7400da55e57c137085ca5",
       "version_major": 2,
       "version_minor": 0
      },
      "text/plain": [
       "Training: 0it [00:00, ?it/s]"
      ]
     },
     "metadata": {},
     "output_type": "display_data"
    },
    {
     "data": {
      "application/vnd.jupyter.widget-view+json": {
       "model_id": "",
       "version_major": 2,
       "version_minor": 0
      },
      "text/plain": [
       "Validating: 0it [00:00, ?it/s]"
      ]
     },
     "metadata": {},
     "output_type": "display_data"
    },
    {
     "data": {
      "application/vnd.jupyter.widget-view+json": {
       "model_id": "",
       "version_major": 2,
       "version_minor": 0
      },
      "text/plain": [
       "Validating: 0it [00:00, ?it/s]"
      ]
     },
     "metadata": {},
     "output_type": "display_data"
    },
    {
     "data": {
      "application/vnd.jupyter.widget-view+json": {
       "model_id": "",
       "version_major": 2,
       "version_minor": 0
      },
      "text/plain": [
       "Validating: 0it [00:00, ?it/s]"
      ]
     },
     "metadata": {},
     "output_type": "display_data"
    },
    {
     "data": {
      "application/vnd.jupyter.widget-view+json": {
       "model_id": "",
       "version_major": 2,
       "version_minor": 0
      },
      "text/plain": [
       "Validating: 0it [00:00, ?it/s]"
      ]
     },
     "metadata": {},
     "output_type": "display_data"
    },
    {
     "data": {
      "application/vnd.jupyter.widget-view+json": {
       "model_id": "",
       "version_major": 2,
       "version_minor": 0
      },
      "text/plain": [
       "Validating: 0it [00:00, ?it/s]"
      ]
     },
     "metadata": {},
     "output_type": "display_data"
    },
    {
     "data": {
      "application/vnd.jupyter.widget-view+json": {
       "model_id": "",
       "version_major": 2,
       "version_minor": 0
      },
      "text/plain": [
       "Validating: 0it [00:00, ?it/s]"
      ]
     },
     "metadata": {},
     "output_type": "display_data"
    },
    {
     "data": {
      "application/vnd.jupyter.widget-view+json": {
       "model_id": "",
       "version_major": 2,
       "version_minor": 0
      },
      "text/plain": [
       "Validating: 0it [00:00, ?it/s]"
      ]
     },
     "metadata": {},
     "output_type": "display_data"
    },
    {
     "data": {
      "application/vnd.jupyter.widget-view+json": {
       "model_id": "",
       "version_major": 2,
       "version_minor": 0
      },
      "text/plain": [
       "Validating: 0it [00:00, ?it/s]"
      ]
     },
     "metadata": {},
     "output_type": "display_data"
    },
    {
     "data": {
      "application/vnd.jupyter.widget-view+json": {
       "model_id": "",
       "version_major": 2,
       "version_minor": 0
      },
      "text/plain": [
       "Validating: 0it [00:00, ?it/s]"
      ]
     },
     "metadata": {},
     "output_type": "display_data"
    },
    {
     "data": {
      "application/vnd.jupyter.widget-view+json": {
       "model_id": "",
       "version_major": 2,
       "version_minor": 0
      },
      "text/plain": [
       "Validating: 0it [00:00, ?it/s]"
      ]
     },
     "metadata": {},
     "output_type": "display_data"
    },
    {
     "data": {
      "application/vnd.jupyter.widget-view+json": {
       "model_id": "",
       "version_major": 2,
       "version_minor": 0
      },
      "text/plain": [
       "Validating: 0it [00:00, ?it/s]"
      ]
     },
     "metadata": {},
     "output_type": "display_data"
    },
    {
     "data": {
      "application/vnd.jupyter.widget-view+json": {
       "model_id": "",
       "version_major": 2,
       "version_minor": 0
      },
      "text/plain": [
       "Validating: 0it [00:00, ?it/s]"
      ]
     },
     "metadata": {},
     "output_type": "display_data"
    },
    {
     "data": {
      "application/vnd.jupyter.widget-view+json": {
       "model_id": "",
       "version_major": 2,
       "version_minor": 0
      },
      "text/plain": [
       "Validating: 0it [00:00, ?it/s]"
      ]
     },
     "metadata": {},
     "output_type": "display_data"
    },
    {
     "data": {
      "application/vnd.jupyter.widget-view+json": {
       "model_id": "",
       "version_major": 2,
       "version_minor": 0
      },
      "text/plain": [
       "Validating: 0it [00:00, ?it/s]"
      ]
     },
     "metadata": {},
     "output_type": "display_data"
    },
    {
     "data": {
      "application/vnd.jupyter.widget-view+json": {
       "model_id": "",
       "version_major": 2,
       "version_minor": 0
      },
      "text/plain": [
       "Validating: 0it [00:00, ?it/s]"
      ]
     },
     "metadata": {},
     "output_type": "display_data"
    },
    {
     "data": {
      "application/vnd.jupyter.widget-view+json": {
       "model_id": "",
       "version_major": 2,
       "version_minor": 0
      },
      "text/plain": [
       "Validating: 0it [00:00, ?it/s]"
      ]
     },
     "metadata": {},
     "output_type": "display_data"
    },
    {
     "data": {
      "application/vnd.jupyter.widget-view+json": {
       "model_id": "",
       "version_major": 2,
       "version_minor": 0
      },
      "text/plain": [
       "Validating: 0it [00:00, ?it/s]"
      ]
     },
     "metadata": {},
     "output_type": "display_data"
    },
    {
     "data": {
      "application/vnd.jupyter.widget-view+json": {
       "model_id": "",
       "version_major": 2,
       "version_minor": 0
      },
      "text/plain": [
       "Validating: 0it [00:00, ?it/s]"
      ]
     },
     "metadata": {},
     "output_type": "display_data"
    },
    {
     "data": {
      "application/vnd.jupyter.widget-view+json": {
       "model_id": "",
       "version_major": 2,
       "version_minor": 0
      },
      "text/plain": [
       "Validating: 0it [00:00, ?it/s]"
      ]
     },
     "metadata": {},
     "output_type": "display_data"
    },
    {
     "data": {
      "application/vnd.jupyter.widget-view+json": {
       "model_id": "",
       "version_major": 2,
       "version_minor": 0
      },
      "text/plain": [
       "Validating: 0it [00:00, ?it/s]"
      ]
     },
     "metadata": {},
     "output_type": "display_data"
    },
    {
     "data": {
      "application/vnd.jupyter.widget-view+json": {
       "model_id": "",
       "version_major": 2,
       "version_minor": 0
      },
      "text/plain": [
       "Validating: 0it [00:00, ?it/s]"
      ]
     },
     "metadata": {},
     "output_type": "display_data"
    },
    {
     "data": {
      "application/vnd.jupyter.widget-view+json": {
       "model_id": "",
       "version_major": 2,
       "version_minor": 0
      },
      "text/plain": [
       "Validating: 0it [00:00, ?it/s]"
      ]
     },
     "metadata": {},
     "output_type": "display_data"
    },
    {
     "data": {
      "application/vnd.jupyter.widget-view+json": {
       "model_id": "",
       "version_major": 2,
       "version_minor": 0
      },
      "text/plain": [
       "Validating: 0it [00:00, ?it/s]"
      ]
     },
     "metadata": {},
     "output_type": "display_data"
    },
    {
     "data": {
      "application/vnd.jupyter.widget-view+json": {
       "model_id": "",
       "version_major": 2,
       "version_minor": 0
      },
      "text/plain": [
       "Validating: 0it [00:00, ?it/s]"
      ]
     },
     "metadata": {},
     "output_type": "display_data"
    },
    {
     "data": {
      "application/vnd.jupyter.widget-view+json": {
       "model_id": "",
       "version_major": 2,
       "version_minor": 0
      },
      "text/plain": [
       "Validating: 0it [00:00, ?it/s]"
      ]
     },
     "metadata": {},
     "output_type": "display_data"
    },
    {
     "data": {
      "application/vnd.jupyter.widget-view+json": {
       "model_id": "",
       "version_major": 2,
       "version_minor": 0
      },
      "text/plain": [
       "Validating: 0it [00:00, ?it/s]"
      ]
     },
     "metadata": {},
     "output_type": "display_data"
    },
    {
     "data": {
      "application/vnd.jupyter.widget-view+json": {
       "model_id": "",
       "version_major": 2,
       "version_minor": 0
      },
      "text/plain": [
       "Validating: 0it [00:00, ?it/s]"
      ]
     },
     "metadata": {},
     "output_type": "display_data"
    },
    {
     "data": {
      "application/vnd.jupyter.widget-view+json": {
       "model_id": "",
       "version_major": 2,
       "version_minor": 0
      },
      "text/plain": [
       "Validating: 0it [00:00, ?it/s]"
      ]
     },
     "metadata": {},
     "output_type": "display_data"
    },
    {
     "data": {
      "application/vnd.jupyter.widget-view+json": {
       "model_id": "",
       "version_major": 2,
       "version_minor": 0
      },
      "text/plain": [
       "Validating: 0it [00:00, ?it/s]"
      ]
     },
     "metadata": {},
     "output_type": "display_data"
    },
    {
     "data": {
      "application/vnd.jupyter.widget-view+json": {
       "model_id": "",
       "version_major": 2,
       "version_minor": 0
      },
      "text/plain": [
       "Validating: 0it [00:00, ?it/s]"
      ]
     },
     "metadata": {},
     "output_type": "display_data"
    }
   ],
   "source": [
    "trainer.fit(model)"
   ]
  },
  {
   "cell_type": "code",
   "execution_count": 18,
   "id": "65a7788b",
   "metadata": {},
   "outputs": [],
   "source": [
    "torch.save(model.model.state_dict(), '../models/siamesenet.pt')"
   ]
  },
  {
   "cell_type": "code",
   "execution_count": 19,
   "id": "6d5a43bd",
   "metadata": {},
   "outputs": [],
   "source": [
    "input_sample = torch.randn((1,1, img_size,img_size))\n",
    "\n",
    "torch.onnx.export(model.model.cpu(),               # model being run\n",
    "                  input_sample,                         # model input (or a tuple for multiple inputs)\n",
    "                  \"../models/mobilenetv3_rw.onnx\",   # where to save the model (can be a file or file-like object)\n",
    "                  export_params=True,        # store the trained parameter weights inside the model file\n",
    "                  opset_version=14,          # the ONNX version to export the model to\n",
    "                  do_constant_folding=True,  # whether to execute constant folding for optimization\n",
    "                  )"
   ]
  },
  {
   "cell_type": "code",
   "execution_count": 20,
   "id": "afa0ae8a",
   "metadata": {},
   "outputs": [
    {
     "name": "stdout",
     "output_type": "stream",
     "text": [
      "mobilenet.pt\t      mobilenetv3_rw.onnx\t   siamesenet.pt\r\n",
      "mobilenet_t0.75.onnx  siamesemodel_large_100.onnx\r\n"
     ]
    }
   ],
   "source": [
    "!ls ../models"
   ]
  },
  {
   "cell_type": "code",
   "execution_count": 21,
   "id": "d9f95124",
   "metadata": {},
   "outputs": [],
   "source": [
    "import onnxruntime\n",
    "from PIL import Image\n",
    "import timm\n",
    "import torch.nn as nn\n",
    "import torch\n",
    "\n",
    "ort_session = onnxruntime.InferenceSession('../models/mobilenetv3_rw.onnx')"
   ]
  },
  {
   "cell_type": "code",
   "execution_count": 22,
   "id": "0ac9876e",
   "metadata": {},
   "outputs": [],
   "source": [
    "def getembs(img1,img2):\n",
    "    inp1 = {ort_session.get_inputs()[0].name: img1}\n",
    "    emb1= ort_session.run(None, inp1)[0]\n",
    "    inp2 = {ort_session.get_inputs()[0].name: img2}\n",
    "    emb2= ort_session.run(None, inp2)[0]\n",
    "    return emb1.ravel(),emb2.ravel()\n",
    "from decimal import Decimal\n",
    "def p_root(value, root):\n",
    "     \n",
    "    root_value = 1 / float(root)\n",
    "    return round (Decimal(value) **\n",
    "             Decimal(root_value), 3)\n",
    "def minkowski_distance(x, y, p_value=2):\n",
    "    return float(p_root(sum(pow(abs(a-b), p_value)\n",
    "            for a, b in zip(x, y)), p_value))"
   ]
  },
  {
   "cell_type": "code",
   "execution_count": 23,
   "id": "84fbea76",
   "metadata": {},
   "outputs": [],
   "source": [
    "testloader=model.test_dataloader()\n",
    "test_image1,test_image2,test_labels=[],[],[]\n",
    "for batch in testloader:\n",
    "    img1,img2,label=batch\n",
    "    img1,img2,label=img1.numpy(),img2.numpy(),label.numpy()\n",
    "    test_image1.append(img1)\n",
    "    test_image2.append(img2)\n",
    "    test_labels.append(label)\n",
    "    "
   ]
  },
  {
   "cell_type": "code",
   "execution_count": 24,
   "id": "2a46139e",
   "metadata": {},
   "outputs": [],
   "source": [
    "test_image1=np.concatenate(test_image1)\n",
    "test_image2=np.concatenate(test_image2)\n",
    "test_labels=np.concatenate(test_labels)"
   ]
  },
  {
   "cell_type": "code",
   "execution_count": 25,
   "id": "4fb0cdd7",
   "metadata": {},
   "outputs": [],
   "source": [
    "true,pred=[],[]\n",
    "for idx in range(len(test_labels)):\n",
    "    img1x,img2x,labelx=np.expand_dims(test_image1[idx],0),np.expand_dims(test_image2[idx],0),test_labels[idx]\n",
    "    emb1,emb2=getembs(img1x,img2x)\n",
    "    pred.append(minkowski_distance(emb1,emb2))\n",
    "    true.append(int(labelx))"
   ]
  },
  {
   "cell_type": "code",
   "execution_count": 26,
   "id": "d0005fcb",
   "metadata": {},
   "outputs": [
    {
     "data": {
      "image/png": "[encoded data removed]",
      "text/plain": [
       "<Figure size 432x288 with 1 Axes>"
      ]
     },
     "metadata": {
      "needs_background": "light"
     },
     "output_type": "display_data"
    }
   ],
   "source": [
    "from sklearn import metrics\n",
    "fpr, tpr, thresholds = metrics.roc_curve(true, pred)\n",
    "roc_auc = metrics.auc(fpr, tpr)\n",
    "display = metrics.RocCurveDisplay(fpr=fpr, tpr=tpr, roc_auc=roc_auc,\n",
    "                                  estimator_name='estimator')\n",
    "display.plot()\n",
    "\n",
    "plt.show()"
   ]
  },
  {
   "cell_type": "code",
   "execution_count": 27,
   "id": "ae38a3dc",
   "metadata": {},
   "outputs": [
    {
     "name": "stdout",
     "output_type": "stream",
     "text": [
      "Best Threshold=0.397000, G-Mean=0.779\n"
     ]
    }
   ],
   "source": [
    "gmeans = np.sqrt(tpr * (1-fpr))\n",
    "ix = np.argmax(gmeans)\n",
    "print('Best Threshold=%f, G-Mean=%.3f' % (thresholds[ix], gmeans[ix]))"
   ]
  },
  {
   "cell_type": "code",
   "execution_count": 28,
   "id": "4cefe03b",
   "metadata": {},
   "outputs": [
    {
     "name": "stdout",
     "output_type": "stream",
     "text": [
      "              precision    recall  f1-score   support\n",
      "\n",
      "           0       0.80      0.85      0.82        87\n",
      "           1       0.77      0.70      0.73        63\n",
      "\n",
      "    accuracy                           0.79       150\n",
      "   macro avg       0.78      0.77      0.78       150\n",
      "weighted avg       0.79      0.79      0.78       150\n",
      "\n"
     ]
    }
   ],
   "source": [
    "print(metrics.classification_report(true, np.where(np.array(pred)>thresholds[ix],1,0)))"
   ]
  },
  {
   "cell_type": "code",
   "execution_count": null,
   "id": "9fc81915",
   "metadata": {},
   "outputs": [],
   "source": []
  },
  {
   "cell_type": "code",
   "execution_count": null,
   "id": "d97815cc",
   "metadata": {},
   "outputs": [],
   "source": []
  }
 ],
 "metadata": {
  "kernelspec": {
   "display_name": "Python 3 (ipykernel)",
   "language": "python",
   "name": "python3"
  },
  "language_info": {
   "codemirror_mode": {
    "name": "ipython",
    "version": 3
   },
   "file_extension": ".py",
   "mimetype": "text/x-python",
   "name": "python",
   "nbconvert_exporter": "python",
   "pygments_lexer": "ipython3",
   "version": "3.8.10"
  }
 },
 "nbformat": 4,
 "nbformat_minor": 5
}
