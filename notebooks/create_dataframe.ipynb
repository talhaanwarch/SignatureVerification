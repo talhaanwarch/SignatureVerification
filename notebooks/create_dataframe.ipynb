{
 "cells": [
  {
   "cell_type": "code",
   "execution_count": 1,
   "id": "b72a9324",
   "metadata": {},
   "outputs": [],
   "source": [
    "from glob import glob\n",
    "import pandas as pd\n",
    "import numpy as np\n",
    "import cv2\n",
    "import os"
   ]
  },
  {
   "cell_type": "code",
   "execution_count": 2,
   "id": "58db51c7",
   "metadata": {},
   "outputs": [
    {
     "name": "stdout",
     "output_type": "stream",
     "text": [
      "Chinese  Dutch\r\n"
     ]
    }
   ],
   "source": [
    "!ls ../../ICDAR2011/trainingSet/OfflineSignatures/"
   ]
  },
  {
   "cell_type": "code",
   "execution_count": 3,
   "id": "1d43537a",
   "metadata": {},
   "outputs": [],
   "source": [
    "def convert2jpg(paths):\n",
    "    news_paths=[]\n",
    "    for path in paths:\n",
    "        img=cv2.imread(path)\n",
    "        img=cv2.cvtColor(img,cv2.COLOR_BGR2GRAY)\n",
    "        blur = cv2.GaussianBlur(np.array(img),(5,5),0)\n",
    "        ret3,img = cv2.threshold(blur,0,255,cv2.THRESH_BINARY+cv2.THRESH_OTSU)\n",
    "        savepath=path[:6] + 'SiameseData/' + path[6:-3]+'jpg'\n",
    "        dirs='/'.join(savepath.split('/')[:-1])\n",
    "        if os.path.exists(dirs) is False:\n",
    "            os.makedirs(dirs)\n",
    "        cv2.imwrite(savepath,img)\n",
    "        news_paths.append(savepath)\n",
    "    return news_paths"
   ]
  },
  {
   "cell_type": "code",
   "execution_count": 4,
   "id": "93415974",
   "metadata": {},
   "outputs": [],
   "source": [
    "def traindf(forge,real,file):\n",
    "    df_forged=pd.DataFrame(zip(forge,['forge']*len(forge)),columns=['forged_path','forged_label'])\n",
    "    df_real=pd.DataFrame(zip(real,['real']*len(real)),columns=['real_path','real_label'])\n",
    "    print(len(df_real),len(df_forged))\n",
    "#     df_forged.head()\n",
    "    df_real['real_id']=df_real.real_path.apply(lambda x:x.split('_')[0][-2::]).astype(int)\n",
    "    df_forged['forged_id']=df_forged.forged_path.apply(lambda x:x.split('_')[0][-2::]).astype(int)\n",
    "    df_real['real_idx']=df_real.real_path.apply(lambda x:x.split(\"_\")[-1].split('.')[0]).astype(int)\n",
    "    df_forged['forged_idx']=df_forged.forged_path.apply(lambda x:x.split(\"_\")[-1].split('.')[0]).astype(int)\n",
    "    print(len(df_real),len(df_forged))\n",
    "    df=pd.merge(left=df_real,right=df_forged,left_on='real_id',right_on='forged_id',how='outer')\n",
    "    df.drop_duplicates(inplace=True)\n",
    "    df['data']=file\n",
    "    print(len(df))\n",
    "    #print(df.head())\n",
    "    df.sort_values(by=['forged_id','real_id'],inplace=True)\n",
    "    df.to_csv('../csv/{}.csv'.format(file),index=False)"
   ]
  },
  {
   "cell_type": "code",
   "execution_count": 5,
   "id": "086210ec",
   "metadata": {},
   "outputs": [
    {
     "name": "stdout",
     "output_type": "stream",
     "text": [
      "575\n",
      "575\n"
     ]
    },
    {
     "data": {
      "text/plain": [
       "'../../SiameseData/ICDAR2011/trainingSet/OfflineSignatures/Chinese/TrainingSet/Offline Forgeries/0100003_1.jpg'"
      ]
     },
     "execution_count": 5,
     "metadata": {},
     "output_type": "execute_result"
    }
   ],
   "source": [
    "chinese_forge=glob('../../ICDAR2011/trainingSet/OfflineSignatures/Chinese/TrainingSet/Offline Forgeries/*.png')\n",
    "chinese_real=glob('../../ICDAR2011/trainingSet/OfflineSignatures/Chinese/TrainingSet/Offline Genuine/*.png')\n",
    "print(len(chinese_forge)+len(chinese_real))#575 signatures\n",
    "chinese_forge=convert2jpg(chinese_forge)\n",
    "chinese_real=convert2jpg(chinese_real)\n",
    "print(len(chinese_forge)+len(chinese_real))#575 signatures\n",
    "chinese_forge[0]"
   ]
  },
  {
   "cell_type": "code",
   "execution_count": 6,
   "id": "d1983bbc",
   "metadata": {},
   "outputs": [
    {
     "data": {
      "text/plain": [
       "'../../SiameseData/ICDAR2011/trainingSet/OfflineSignatures/Chinese/TrainingSet/Offline Forgeries/0100003_1.jpg'"
      ]
     },
     "execution_count": 6,
     "metadata": {},
     "output_type": "execute_result"
    }
   ],
   "source": [
    "chinese_forge[0]"
   ]
  },
  {
   "cell_type": "code",
   "execution_count": 7,
   "id": "6db9ade5",
   "metadata": {},
   "outputs": [
    {
     "name": "stdout",
     "output_type": "stream",
     "text": [
      "235 340\n",
      "235 340\n",
      "7988\n"
     ]
    }
   ],
   "source": [
    "traindf(chinese_forge,chinese_real,'chinese')"
   ]
  },
  {
   "cell_type": "code",
   "execution_count": null,
   "id": "7ba09b09",
   "metadata": {},
   "outputs": [],
   "source": []
  },
  {
   "cell_type": "code",
   "execution_count": 8,
   "id": "ea46d0bc",
   "metadata": {},
   "outputs": [],
   "source": [
    "#prepare test data"
   ]
  },
  {
   "cell_type": "code",
   "execution_count": 9,
   "id": "89350c42",
   "metadata": {},
   "outputs": [
    {
     "name": "stdout",
     "output_type": "stream",
     "text": [
      "367 234\n",
      "601\n"
     ]
    },
    {
     "data": {
      "text/plain": [
       "'../../SiameseData/ICDAR2011/Testdata_SigComp2011/SigComp11-Offlinetestset/Chinese/Questioned(487)/011/06_0113011.jpg'"
      ]
     },
     "execution_count": 9,
     "metadata": {},
     "output_type": "execute_result"
    }
   ],
   "source": [
    "quest1=glob('../../ICDAR2011/Testdata_SigComp2011/SigComp11-Offlinetestset/Chinese/Questioned(487)/*/*.png')\n",
    "quest2=glob('../../ICDAR2011/Testdata_SigComp2011/SigComp11-Offlinetestset/Chinese/Questioned(487)/*/*.PNG')\n",
    "forge=quest2\n",
    "real1=glob('../../ICDAR2011/Testdata_SigComp2011/SigComp11-Offlinetestset/Chinese/Ref(115)/*/*.png')\n",
    "real2=glob('../../ICDAR2011/Testdata_SigComp2011/SigComp11-Offlinetestset/Chinese/Ref(115)/*/*.PNG')\n",
    "real=real1+real2+quest1\n",
    "print(len(forge),len(real))\n",
    "forge=convert2jpg(forge)\n",
    "real=convert2jpg(real)\n",
    "print(len(forge)+len(real))#575 signatures\n",
    "forge[0]"
   ]
  },
  {
   "cell_type": "code",
   "execution_count": 10,
   "id": "ac2fb36b",
   "metadata": {},
   "outputs": [],
   "source": [
    "def testdf(forge,real,file):\n",
    "    df_forged=pd.DataFrame(zip(forge,['forge']*len(forge)),columns=['forged_path','forged_label'])\n",
    "    df_real=pd.DataFrame(zip(real,['real']*len(real)),columns=['real_path','real_label'])\n",
    "    print(len(df_real),len(df_forged))\n",
    "    print(df_real.real_path[0].split('/')[-2])\n",
    "    df_real['real_id']=df_real.real_path.apply(lambda x:x.split('/')[-2]).astype(int)\n",
    "    df_forged['forged_id']=df_forged.forged_path.apply(lambda x:x.split('/')[-2]).astype(int)\n",
    "    print(df_real.head().real_path[0])\n",
    "    df_real['real_idx']=df_real.real_path.apply(lambda x:x.split('_')[1].split('/')[-1]).astype(int)\n",
    "    df_forged['forged_idx']=df_forged.forged_path.apply(lambda x:x.split('_')[1].split('/')[-1]).astype(int)\n",
    "    \n",
    "    print(len(df_real),len(df_forged))\n",
    "    df=pd.merge(left=df_real,right=df_forged,left_on='real_id',right_on='forged_id',how='outer')\n",
    "    df.drop_duplicates(inplace=True)\n",
    "    df['data']=file\n",
    "    print(len(df))\n",
    "#     print(df.head())\n",
    "    df.sort_values(by=['forged_id','real_id'],inplace=True)\n",
    "    df.to_csv('../csv/test_{}.csv'.format(file),index=False)"
   ]
  },
  {
   "cell_type": "code",
   "execution_count": 11,
   "id": "7efcd3d1",
   "metadata": {},
   "outputs": [
    {
     "name": "stdout",
     "output_type": "stream",
     "text": [
      "234 367\n",
      "011\n",
      "../../SiameseData/ICDAR2011/Testdata_SigComp2011/SigComp11-Offlinetestset/Chinese/Ref(115)/011/13_011.jpg\n",
      "234 367\n",
      "8587\n"
     ]
    }
   ],
   "source": [
    "testdf(forge,real,'chinese')"
   ]
  },
  {
   "cell_type": "code",
   "execution_count": 12,
   "id": "32586cda",
   "metadata": {},
   "outputs": [
    {
     "name": "stdout",
     "output_type": "stream",
     "text": [
      "123 239\n"
     ]
    },
    {
     "name": "stderr",
     "output_type": "stream",
     "text": [
      "libpng warning: iCCP: known incorrect sRGB profile\n",
      "libpng warning: iCCP: known incorrect sRGB profile\n",
      "libpng warning: iCCP: known incorrect sRGB profile\n",
      "libpng warning: iCCP: known incorrect sRGB profile\n",
      "libpng warning: iCCP: known incorrect sRGB profile\n",
      "libpng warning: iCCP: known incorrect sRGB profile\n",
      "libpng warning: iCCP: known incorrect sRGB profile\n",
      "libpng warning: iCCP: known incorrect sRGB profile\n",
      "libpng warning: iCCP: known incorrect sRGB profile\n",
      "libpng warning: iCCP: known incorrect sRGB profile\n",
      "libpng warning: iCCP: known incorrect sRGB profile\n",
      "libpng warning: iCCP: known incorrect sRGB profile\n"
     ]
    },
    {
     "name": "stdout",
     "output_type": "stream",
     "text": [
      "362\n",
      "239 123\n",
      "239 123\n",
      "2936\n"
     ]
    }
   ],
   "source": [
    "forge=glob('../../ICDAR2011/trainingSet/OfflineSignatures/Dutch/TrainingSet/Offline Forgeries/*.png')\n",
    "real=glob('../../ICDAR2011/trainingSet/OfflineSignatures/Dutch/TrainingSet/Offline Genuine/*.PNG')\n",
    "print(len(forge),len(real))#575 signatures\n",
    "forge=convert2jpg(forge)\n",
    "real=convert2jpg(real)\n",
    "print(len(forge)+len(real))#575 signatures\n",
    "forge[0]\n",
    "traindf(forge,real,'dutch')"
   ]
  },
  {
   "cell_type": "code",
   "execution_count": 13,
   "id": "0312fd62",
   "metadata": {},
   "outputs": [
    {
     "name": "stdout",
     "output_type": "stream",
     "text": [
      "639 1294\n"
     ]
    },
    {
     "name": "stderr",
     "output_type": "stream",
     "text": [
      "libpng warning: iCCP: known incorrect sRGB profile\n",
      "libpng warning: iCCP: known incorrect sRGB profile\n",
      "libpng warning: iCCP: known incorrect sRGB profile\n",
      "libpng warning: iCCP: known incorrect sRGB profile\n",
      "libpng warning: iCCP: known incorrect sRGB profile\n",
      "libpng warning: iCCP: known incorrect sRGB profile\n",
      "libpng warning: iCCP: known incorrect sRGB profile\n",
      "libpng warning: iCCP: known incorrect sRGB profile\n",
      "libpng warning: iCCP: known incorrect sRGB profile\n",
      "libpng warning: iCCP: known incorrect sRGB profile\n",
      "libpng warning: iCCP: known incorrect sRGB profile\n",
      "libpng warning: iCCP: known incorrect sRGB profile\n",
      "libpng warning: iCCP: known incorrect sRGB profile\n",
      "libpng warning: iCCP: known incorrect sRGB profile\n",
      "libpng warning: iCCP: known incorrect sRGB profile\n",
      "libpng warning: iCCP: known incorrect sRGB profile\n",
      "libpng warning: iCCP: known incorrect sRGB profile\n",
      "libpng warning: iCCP: known incorrect sRGB profile\n",
      "libpng warning: iCCP: known incorrect sRGB profile\n",
      "libpng warning: iCCP: known incorrect sRGB profile\n",
      "libpng warning: iCCP: known incorrect sRGB profile\n",
      "libpng warning: iCCP: known incorrect sRGB profile\n",
      "libpng warning: iCCP: known incorrect sRGB profile\n",
      "libpng warning: iCCP: known incorrect sRGB profile\n",
      "libpng warning: iCCP: known incorrect sRGB profile\n",
      "libpng warning: iCCP: known incorrect sRGB profile\n",
      "libpng warning: iCCP: known incorrect sRGB profile\n",
      "libpng warning: iCCP: known incorrect sRGB profile\n",
      "libpng warning: iCCP: known incorrect sRGB profile\n",
      "libpng warning: iCCP: known incorrect sRGB profile\n",
      "libpng warning: iCCP: known incorrect sRGB profile\n",
      "libpng warning: iCCP: known incorrect sRGB profile\n",
      "libpng warning: iCCP: known incorrect sRGB profile\n",
      "libpng warning: iCCP: known incorrect sRGB profile\n",
      "libpng warning: iCCP: known incorrect sRGB profile\n",
      "libpng warning: iCCP: known incorrect sRGB profile\n",
      "libpng warning: iCCP: known incorrect sRGB profile\n",
      "libpng warning: iCCP: known incorrect sRGB profile\n",
      "libpng warning: iCCP: known incorrect sRGB profile\n",
      "libpng warning: iCCP: known incorrect sRGB profile\n",
      "libpng warning: iCCP: known incorrect sRGB profile\n",
      "libpng warning: iCCP: known incorrect sRGB profile\n",
      "libpng warning: iCCP: known incorrect sRGB profile\n",
      "libpng warning: iCCP: known incorrect sRGB profile\n",
      "libpng warning: iCCP: known incorrect sRGB profile\n",
      "libpng warning: iCCP: known incorrect sRGB profile\n",
      "libpng warning: iCCP: known incorrect sRGB profile\n",
      "libpng warning: iCCP: known incorrect sRGB profile\n",
      "libpng warning: iCCP: known incorrect sRGB profile\n",
      "libpng warning: iCCP: known incorrect sRGB profile\n",
      "libpng warning: iCCP: known incorrect sRGB profile\n",
      "libpng warning: iCCP: known incorrect sRGB profile\n",
      "libpng warning: iCCP: known incorrect sRGB profile\n",
      "libpng warning: iCCP: known incorrect sRGB profile\n",
      "libpng warning: iCCP: known incorrect sRGB profile\n",
      "libpng warning: iCCP: known incorrect sRGB profile\n",
      "libpng warning: iCCP: known incorrect sRGB profile\n",
      "libpng warning: iCCP: known incorrect sRGB profile\n",
      "libpng warning: iCCP: known incorrect sRGB profile\n",
      "libpng warning: iCCP: known incorrect sRGB profile\n",
      "libpng warning: iCCP: known incorrect sRGB profile\n",
      "libpng warning: iCCP: known incorrect sRGB profile\n",
      "libpng warning: iCCP: known incorrect sRGB profile\n",
      "libpng warning: iCCP: known incorrect sRGB profile\n",
      "libpng warning: iCCP: known incorrect sRGB profile\n",
      "libpng warning: iCCP: known incorrect sRGB profile\n",
      "libpng warning: iCCP: known incorrect sRGB profile\n",
      "libpng warning: iCCP: known incorrect sRGB profile\n",
      "libpng warning: iCCP: known incorrect sRGB profile\n",
      "libpng warning: iCCP: known incorrect sRGB profile\n",
      "libpng warning: iCCP: known incorrect sRGB profile\n",
      "libpng warning: iCCP: known incorrect sRGB profile\n",
      "libpng warning: iCCP: known incorrect sRGB profile\n",
      "libpng warning: iCCP: known incorrect sRGB profile\n",
      "libpng warning: iCCP: known incorrect sRGB profile\n",
      "libpng warning: iCCP: known incorrect sRGB profile\n",
      "libpng warning: iCCP: known incorrect sRGB profile\n",
      "libpng warning: iCCP: known incorrect sRGB profile\n",
      "libpng warning: iCCP: known incorrect sRGB profile\n",
      "libpng warning: iCCP: known incorrect sRGB profile\n",
      "libpng warning: iCCP: known incorrect sRGB profile\n",
      "libpng warning: iCCP: known incorrect sRGB profile\n",
      "libpng warning: iCCP: known incorrect sRGB profile\n",
      "libpng warning: iCCP: known incorrect sRGB profile\n",
      "libpng warning: iCCP: known incorrect sRGB profile\n",
      "libpng warning: iCCP: known incorrect sRGB profile\n",
      "libpng warning: iCCP: known incorrect sRGB profile\n",
      "libpng warning: iCCP: known incorrect sRGB profile\n",
      "libpng warning: iCCP: known incorrect sRGB profile\n",
      "libpng warning: iCCP: known incorrect sRGB profile\n",
      "libpng warning: iCCP: known incorrect sRGB profile\n",
      "libpng warning: iCCP: known incorrect sRGB profile\n",
      "libpng warning: iCCP: known incorrect sRGB profile\n",
      "libpng warning: iCCP: known incorrect sRGB profile\n",
      "libpng warning: iCCP: known incorrect sRGB profile\n",
      "libpng warning: iCCP: known incorrect sRGB profile\n",
      "libpng warning: iCCP: known incorrect sRGB profile\n",
      "libpng warning: iCCP: known incorrect sRGB profile\n"
     ]
    },
    {
     "name": "stdout",
     "output_type": "stream",
     "text": [
      "1933\n"
     ]
    },
    {
     "data": {
      "text/plain": [
       "'../../SiameseData/ICDAR2011/Testdata_SigComp2011/SigComp11-Offlinetestset/Dutch/Questioned(1287)/044/01_0103044.jpg'"
      ]
     },
     "execution_count": 13,
     "metadata": {},
     "output_type": "execute_result"
    }
   ],
   "source": [
    "quest1=glob('../../ICDAR2011/Testdata_SigComp2011/SigComp11-Offlinetestset/Dutch/Questioned(1287)/*/*.PNG')\n",
    "real1=glob('../../ICDAR2011/Testdata_SigComp2011/SigComp11-Offlinetestset/Dutch/Reference(646)/*/*.PNG')\n",
    "quest2=glob('../../ICDAR2011/Testdata_SigComp2011/SigComp11-Offlinetestset/Dutch/Questioned(1287)/*/*.png')\n",
    "real2=glob('../../ICDAR2011/Testdata_SigComp2011/SigComp11-Offlinetestset/Dutch/Reference(646)/*/*.png')\n",
    "forge=quest1\n",
    "real=real1+real2+quest2\n",
    "print(len(forge),len(real))\n",
    "forge=convert2jpg(forge)\n",
    "real=convert2jpg(real)\n",
    "print(len(forge)+len(real))#575 signatures\n",
    "forge[0]"
   ]
  },
  {
   "cell_type": "code",
   "execution_count": 14,
   "id": "6e239e90",
   "metadata": {},
   "outputs": [
    {
     "name": "stdout",
     "output_type": "stream",
     "text": [
      "1294 639\n",
      "041\n",
      "../../SiameseData/ICDAR2011/Testdata_SigComp2011/SigComp11-Offlinetestset/Dutch/Reference(646)/041/13_041.jpg\n",
      "1294 639\n",
      "15308\n"
     ]
    }
   ],
   "source": [
    "testdf(forge,real,'dutch')"
   ]
  },
  {
   "cell_type": "code",
   "execution_count": 15,
   "id": "b2f0550d",
   "metadata": {},
   "outputs": [
    {
     "data": {
      "text/plain": [
       "29397"
      ]
     },
     "execution_count": 15,
     "metadata": {},
     "output_type": "execute_result"
    }
   ],
   "source": [
    "239*123"
   ]
  },
  {
   "cell_type": "code",
   "execution_count": null,
   "id": "95afde4a",
   "metadata": {},
   "outputs": [],
   "source": []
  }
 ],
 "metadata": {
  "kernelspec": {
   "display_name": "Python 3 (ipykernel)",
   "language": "python",
   "name": "python3"
  },
  "language_info": {
   "codemirror_mode": {
    "name": "ipython",
    "version": 3
   },
   "file_extension": ".py",
   "mimetype": "text/x-python",
   "name": "python",
   "nbconvert_exporter": "python",
   "pygments_lexer": "ipython3",
   "version": "3.8.10"
  }
 },
 "nbformat": 4,
 "nbformat_minor": 5
}
