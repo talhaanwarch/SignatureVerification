{
 "cells": [
  {
   "cell_type": "code",
   "execution_count": 1,
   "id": "a4295c2c",
   "metadata": {},
   "outputs": [],
   "source": [
    "from glob import glob\n",
    "import pandas as pd\n",
    "import cv2\n",
    "import numpy as np\n",
    "import os\n",
    "convert=False"
   ]
  },
  {
   "cell_type": "code",
   "execution_count": 57,
   "id": "c56f80c8",
   "metadata": {},
   "outputs": [],
   "source": [
    "def convert2jpg(paths):\n",
    "    news_paths=[]\n",
    "    for path in paths:\n",
    "        \n",
    "        try:\n",
    "            img=cv2.imread(path)\n",
    "            img=cv2.cvtColor(img,cv2.COLOR_BGR2GRAY)\n",
    "            blur = cv2.GaussianBlur(np.array(img),(5,5),0)\n",
    "            ret3,img = cv2.threshold(blur,0,255,cv2.THRESH_BINARY+cv2.THRESH_OTSU)\n",
    "            savepath=path[:6] + 'SiameseData/' + path[6:-3]+'jpg'\n",
    "            dirs='/'.join(savepath.split('/')[:-1])\n",
    "            if os.path.exists(dirs) is False:\n",
    "                os.makedirs(dirs)\n",
    "            cv2.imwrite(savepath,img)\n",
    "            news_paths.append(savepath)\n",
    "        except:\n",
    "           \n",
    "            pass\n",
    "        \n",
    "    return news_paths"
   ]
  },
  {
   "cell_type": "markdown",
   "id": "d7ff2545",
   "metadata": {},
   "source": [
    "# ICDAR2009"
   ]
  },
  {
   "cell_type": "code",
   "execution_count": 3,
   "id": "71049a5d",
   "metadata": {},
   "outputs": [
    {
     "name": "stdout",
     "output_type": "stream",
     "text": [
      "forgeries  genuines\r\n"
     ]
    }
   ],
   "source": [
    "!ls ../../ICDAR2009/"
   ]
  },
  {
   "cell_type": "code",
   "execution_count": 4,
   "id": "31729a0b",
   "metadata": {},
   "outputs": [
    {
     "data": {
      "text/plain": [
       "1564"
      ]
     },
     "execution_count": 4,
     "metadata": {},
     "output_type": "execute_result"
    }
   ],
   "source": [
    "real=glob('../../ICDAR2009/genuines/*.png')\n",
    "forged=glob('../../ICDAR2009/forgeries/*.png')\n",
    "len(real)+len(forged)"
   ]
  },
  {
   "cell_type": "code",
   "execution_count": 5,
   "id": "30caa363",
   "metadata": {},
   "outputs": [],
   "source": [
    "\n",
    "forged=convert2jpg(forged)\n",
    "real=convert2jpg(real)"
   ]
  },
  {
   "cell_type": "code",
   "execution_count": 6,
   "id": "aed3fed8",
   "metadata": {},
   "outputs": [
    {
     "name": "stdout",
     "output_type": "stream",
     "text": [
      "940\n"
     ]
    },
    {
     "data": {
      "text/html": [
       "<div>\n",
       "<style scoped>\n",
       "    .dataframe tbody tr th:only-of-type {\n",
       "        vertical-align: middle;\n",
       "    }\n",
       "\n",
       "    .dataframe tbody tr th {\n",
       "        vertical-align: top;\n",
       "    }\n",
       "\n",
       "    .dataframe thead th {\n",
       "        text-align: right;\n",
       "    }\n",
       "</style>\n",
       "<table border=\"1\" class=\"dataframe\">\n",
       "  <thead>\n",
       "    <tr style=\"text-align: right;\">\n",
       "      <th></th>\n",
       "      <th>real_path</th>\n",
       "      <th>real_id</th>\n",
       "      <th>real_idx</th>\n",
       "    </tr>\n",
       "  </thead>\n",
       "  <tbody>\n",
       "    <tr>\n",
       "      <th>0</th>\n",
       "      <td>../../SiameseData/ICDAR2009/genuines/NFI-00101...</td>\n",
       "      <td>1</td>\n",
       "      <td>1</td>\n",
       "    </tr>\n",
       "    <tr>\n",
       "      <th>1</th>\n",
       "      <td>../../SiameseData/ICDAR2009/genuines/NFI-00102...</td>\n",
       "      <td>1</td>\n",
       "      <td>2</td>\n",
       "    </tr>\n",
       "    <tr>\n",
       "      <th>2</th>\n",
       "      <td>../../SiameseData/ICDAR2009/genuines/NFI-00103...</td>\n",
       "      <td>1</td>\n",
       "      <td>3</td>\n",
       "    </tr>\n",
       "    <tr>\n",
       "      <th>3</th>\n",
       "      <td>../../SiameseData/ICDAR2009/genuines/NFI-00104...</td>\n",
       "      <td>1</td>\n",
       "      <td>4</td>\n",
       "    </tr>\n",
       "    <tr>\n",
       "      <th>4</th>\n",
       "      <td>../../SiameseData/ICDAR2009/genuines/NFI-00105...</td>\n",
       "      <td>1</td>\n",
       "      <td>5</td>\n",
       "    </tr>\n",
       "  </tbody>\n",
       "</table>\n",
       "</div>"
      ],
      "text/plain": [
       "                                           real_path  real_id  real_idx\n",
       "0  ../../SiameseData/ICDAR2009/genuines/NFI-00101...        1         1\n",
       "1  ../../SiameseData/ICDAR2009/genuines/NFI-00102...        1         2\n",
       "2  ../../SiameseData/ICDAR2009/genuines/NFI-00103...        1         3\n",
       "3  ../../SiameseData/ICDAR2009/genuines/NFI-00104...        1         4\n",
       "4  ../../SiameseData/ICDAR2009/genuines/NFI-00105...        1         5"
      ]
     },
     "execution_count": 6,
     "metadata": {},
     "output_type": "execute_result"
    }
   ],
   "source": [
    "real_df=pd.DataFrame(sorted(real),columns=['real_path'])\n",
    "real_df['real_id']=real_df.real_path.apply(lambda x:x.split('-')[-1].split('.')[0][-3::]).astype(int)\n",
    "real_df['real_idx']=real_df.real_path.apply(lambda x:x.split('-')[-1].split('.')[0][3:-3]).astype(int)\n",
    "print(len(real_df))\n",
    "\n",
    "real_df.head()"
   ]
  },
  {
   "cell_type": "code",
   "execution_count": 7,
   "id": "39d2ad88",
   "metadata": {},
   "outputs": [
    {
     "name": "stdout",
     "output_type": "stream",
     "text": [
      "624\n"
     ]
    },
    {
     "data": {
      "text/html": [
       "<div>\n",
       "<style scoped>\n",
       "    .dataframe tbody tr th:only-of-type {\n",
       "        vertical-align: middle;\n",
       "    }\n",
       "\n",
       "    .dataframe tbody tr th {\n",
       "        vertical-align: top;\n",
       "    }\n",
       "\n",
       "    .dataframe thead th {\n",
       "        text-align: right;\n",
       "    }\n",
       "</style>\n",
       "<table border=\"1\" class=\"dataframe\">\n",
       "  <thead>\n",
       "    <tr style=\"text-align: right;\">\n",
       "      <th></th>\n",
       "      <th>real_path</th>\n",
       "      <th>real_id</th>\n",
       "      <th>real_idx</th>\n",
       "    </tr>\n",
       "  </thead>\n",
       "  <tbody>\n",
       "    <tr>\n",
       "      <th>0</th>\n",
       "      <td>../../SiameseData/ICDAR2009/genuines/NFI-00101...</td>\n",
       "      <td>1</td>\n",
       "      <td>1</td>\n",
       "    </tr>\n",
       "    <tr>\n",
       "      <th>1</th>\n",
       "      <td>../../SiameseData/ICDAR2009/genuines/NFI-00102...</td>\n",
       "      <td>1</td>\n",
       "      <td>2</td>\n",
       "    </tr>\n",
       "    <tr>\n",
       "      <th>2</th>\n",
       "      <td>../../SiameseData/ICDAR2009/genuines/NFI-00103...</td>\n",
       "      <td>1</td>\n",
       "      <td>3</td>\n",
       "    </tr>\n",
       "    <tr>\n",
       "      <th>3</th>\n",
       "      <td>../../SiameseData/ICDAR2009/genuines/NFI-00104...</td>\n",
       "      <td>1</td>\n",
       "      <td>4</td>\n",
       "    </tr>\n",
       "    <tr>\n",
       "      <th>4</th>\n",
       "      <td>../../SiameseData/ICDAR2009/genuines/NFI-00105...</td>\n",
       "      <td>1</td>\n",
       "      <td>5</td>\n",
       "    </tr>\n",
       "  </tbody>\n",
       "</table>\n",
       "</div>"
      ],
      "text/plain": [
       "                                           real_path  real_id  real_idx\n",
       "0  ../../SiameseData/ICDAR2009/genuines/NFI-00101...        1         1\n",
       "1  ../../SiameseData/ICDAR2009/genuines/NFI-00102...        1         2\n",
       "2  ../../SiameseData/ICDAR2009/genuines/NFI-00103...        1         3\n",
       "3  ../../SiameseData/ICDAR2009/genuines/NFI-00104...        1         4\n",
       "4  ../../SiameseData/ICDAR2009/genuines/NFI-00105...        1         5"
      ]
     },
     "execution_count": 7,
     "metadata": {},
     "output_type": "execute_result"
    }
   ],
   "source": [
    "forged_df=pd.DataFrame(sorted(forged),columns=['forged_path'])\n",
    "forged_df['forged_id']=forged_df.forged_path.apply(lambda x:x.split('-')[-1].split('.')[0][-3::]).astype(int)\n",
    "forged_df['forged_idx']=forged_df.forged_path.apply(lambda x:x.split('-')[-1].split('.')[0][3:-3]).astype(int)\n",
    "print(len(forged_df))\n",
    "\n",
    "real_df.head()"
   ]
  },
  {
   "cell_type": "code",
   "execution_count": 8,
   "id": "42bc9ef1",
   "metadata": {},
   "outputs": [
    {
     "name": "stdout",
     "output_type": "stream",
     "text": [
      "7344\n"
     ]
    },
    {
     "data": {
      "text/html": [
       "<div>\n",
       "<style scoped>\n",
       "    .dataframe tbody tr th:only-of-type {\n",
       "        vertical-align: middle;\n",
       "    }\n",
       "\n",
       "    .dataframe tbody tr th {\n",
       "        vertical-align: top;\n",
       "    }\n",
       "\n",
       "    .dataframe thead th {\n",
       "        text-align: right;\n",
       "    }\n",
       "</style>\n",
       "<table border=\"1\" class=\"dataframe\">\n",
       "  <thead>\n",
       "    <tr style=\"text-align: right;\">\n",
       "      <th></th>\n",
       "      <th>real_path</th>\n",
       "      <th>real_id</th>\n",
       "      <th>real_idx</th>\n",
       "      <th>forged_path</th>\n",
       "      <th>forged_id</th>\n",
       "      <th>forged_idx</th>\n",
       "      <th>data</th>\n",
       "    </tr>\n",
       "  </thead>\n",
       "  <tbody>\n",
       "    <tr>\n",
       "      <th>0</th>\n",
       "      <td>../../SiameseData/ICDAR2009/genuines/NFI-00201...</td>\n",
       "      <td>2</td>\n",
       "      <td>1</td>\n",
       "      <td>../../SiameseData/ICDAR2009/forgeries/NFI-0030...</td>\n",
       "      <td>2</td>\n",
       "      <td>1</td>\n",
       "      <td>icdar09</td>\n",
       "    </tr>\n",
       "    <tr>\n",
       "      <th>1</th>\n",
       "      <td>../../SiameseData/ICDAR2009/genuines/NFI-00201...</td>\n",
       "      <td>2</td>\n",
       "      <td>1</td>\n",
       "      <td>../../SiameseData/ICDAR2009/forgeries/NFI-0030...</td>\n",
       "      <td>2</td>\n",
       "      <td>2</td>\n",
       "      <td>icdar09</td>\n",
       "    </tr>\n",
       "    <tr>\n",
       "      <th>2</th>\n",
       "      <td>../../SiameseData/ICDAR2009/genuines/NFI-00201...</td>\n",
       "      <td>2</td>\n",
       "      <td>1</td>\n",
       "      <td>../../SiameseData/ICDAR2009/forgeries/NFI-0030...</td>\n",
       "      <td>2</td>\n",
       "      <td>3</td>\n",
       "      <td>icdar09</td>\n",
       "    </tr>\n",
       "    <tr>\n",
       "      <th>3</th>\n",
       "      <td>../../SiameseData/ICDAR2009/genuines/NFI-00201...</td>\n",
       "      <td>2</td>\n",
       "      <td>1</td>\n",
       "      <td>../../SiameseData/ICDAR2009/forgeries/NFI-0030...</td>\n",
       "      <td>2</td>\n",
       "      <td>4</td>\n",
       "      <td>icdar09</td>\n",
       "    </tr>\n",
       "    <tr>\n",
       "      <th>4</th>\n",
       "      <td>../../SiameseData/ICDAR2009/genuines/NFI-00201...</td>\n",
       "      <td>2</td>\n",
       "      <td>1</td>\n",
       "      <td>../../SiameseData/ICDAR2009/forgeries/NFI-0030...</td>\n",
       "      <td>2</td>\n",
       "      <td>5</td>\n",
       "      <td>icdar09</td>\n",
       "    </tr>\n",
       "  </tbody>\n",
       "</table>\n",
       "</div>"
      ],
      "text/plain": [
       "                                           real_path  real_id  real_idx  \\\n",
       "0  ../../SiameseData/ICDAR2009/genuines/NFI-00201...        2         1   \n",
       "1  ../../SiameseData/ICDAR2009/genuines/NFI-00201...        2         1   \n",
       "2  ../../SiameseData/ICDAR2009/genuines/NFI-00201...        2         1   \n",
       "3  ../../SiameseData/ICDAR2009/genuines/NFI-00201...        2         1   \n",
       "4  ../../SiameseData/ICDAR2009/genuines/NFI-00201...        2         1   \n",
       "\n",
       "                                         forged_path  forged_id  forged_idx  \\\n",
       "0  ../../SiameseData/ICDAR2009/forgeries/NFI-0030...          2           1   \n",
       "1  ../../SiameseData/ICDAR2009/forgeries/NFI-0030...          2           2   \n",
       "2  ../../SiameseData/ICDAR2009/forgeries/NFI-0030...          2           3   \n",
       "3  ../../SiameseData/ICDAR2009/forgeries/NFI-0030...          2           4   \n",
       "4  ../../SiameseData/ICDAR2009/forgeries/NFI-0030...          2           5   \n",
       "\n",
       "      data  \n",
       "0  icdar09  \n",
       "1  icdar09  \n",
       "2  icdar09  \n",
       "3  icdar09  \n",
       "4  icdar09  "
      ]
     },
     "execution_count": 8,
     "metadata": {},
     "output_type": "execute_result"
    }
   ],
   "source": [
    "df0=real_df.merge(forged_df,left_on='real_id',right_on='forged_id',how='inner')\n",
    "df0['data']='icdar09'\n",
    "print(len(df0))\n",
    "df0.head()"
   ]
  },
  {
   "cell_type": "markdown",
   "id": "d0641bff",
   "metadata": {},
   "source": [
    "# UTSIG"
   ]
  },
  {
   "cell_type": "code",
   "execution_count": 9,
   "id": "1bb1b936",
   "metadata": {},
   "outputs": [
    {
     "name": "stdout",
     "output_type": "stream",
     "text": [
      "1    105  111  14  20  27  33  4   46  52  59  65  71  78  84  90  97\r\n",
      "10   106  112  15  21  28  34  40  47  53  6   66  72  79  85  91  98\r\n",
      "100  107  113  16  22  29  35  41  48  54  60  67  73  8   86  92  99\r\n",
      "101  108  114  17  23  3   36  42  49  55  61  68  74  80  87  93\r\n",
      "102  109  115  18  24  30  37  43  5   56  62  69  75  81  88  94\r\n",
      "103  11   12   19  25  31  38  44  50  57  63  7   76  82  89  95\r\n",
      "104  110  13   2   26  32  39  45  51  58  64  70  77  83  9   96\r\n"
     ]
    }
   ],
   "source": [
    "!ls ../../UTSig/Forgery/Simple"
   ]
  },
  {
   "cell_type": "code",
   "execution_count": 10,
   "id": "6b14927a",
   "metadata": {},
   "outputs": [
    {
     "data": {
      "text/plain": [
       "3105"
      ]
     },
     "execution_count": 10,
     "metadata": {},
     "output_type": "execute_result"
    }
   ],
   "source": [
    "real=glob('../../UTSig/Genuine/*/*.tif')\n",
    "len(real)"
   ]
  },
  {
   "cell_type": "code",
   "execution_count": 11,
   "id": "9e90def6",
   "metadata": {},
   "outputs": [
    {
     "data": {
      "text/plain": [
       "4830"
      ]
     },
     "execution_count": 11,
     "metadata": {},
     "output_type": "execute_result"
    }
   ],
   "source": [
    "forged1=glob('../../UTSig/Forgery/Simple/*/*.tif')\n",
    "forged2=glob('../../UTSig/Forgery/Skilled/*/*.tif')\n",
    "forged=forged1+forged2\n",
    "len(forged1)+len(forged2)"
   ]
  },
  {
   "cell_type": "code",
   "execution_count": 12,
   "id": "836486f5",
   "metadata": {},
   "outputs": [
    {
     "name": "stdout",
     "output_type": "stream",
     "text": [
      "4830 3105\n"
     ]
    }
   ],
   "source": [
    "forged=convert2jpg(forged)\n",
    "real=convert2jpg(real)\n",
    "print(len(forged),len(real))"
   ]
  },
  {
   "cell_type": "code",
   "execution_count": 13,
   "id": "4cbf3462",
   "metadata": {},
   "outputs": [
    {
     "data": {
      "text/plain": [
       "'../../SiameseData/UTSig/Genuine/1/1.jpg'"
      ]
     },
     "execution_count": 13,
     "metadata": {},
     "output_type": "execute_result"
    }
   ],
   "source": [
    "real[0]"
   ]
  },
  {
   "cell_type": "code",
   "execution_count": 14,
   "id": "6d568344",
   "metadata": {},
   "outputs": [
    {
     "name": "stdout",
     "output_type": "stream",
     "text": [
      "3105\n"
     ]
    },
    {
     "data": {
      "text/html": [
       "<div>\n",
       "<style scoped>\n",
       "    .dataframe tbody tr th:only-of-type {\n",
       "        vertical-align: middle;\n",
       "    }\n",
       "\n",
       "    .dataframe tbody tr th {\n",
       "        vertical-align: top;\n",
       "    }\n",
       "\n",
       "    .dataframe thead th {\n",
       "        text-align: right;\n",
       "    }\n",
       "</style>\n",
       "<table border=\"1\" class=\"dataframe\">\n",
       "  <thead>\n",
       "    <tr style=\"text-align: right;\">\n",
       "      <th></th>\n",
       "      <th>real_path</th>\n",
       "      <th>real_id</th>\n",
       "      <th>real_idx</th>\n",
       "    </tr>\n",
       "  </thead>\n",
       "  <tbody>\n",
       "    <tr>\n",
       "      <th>0</th>\n",
       "      <td>../../SiameseData/UTSig/Genuine/1/1.jpg</td>\n",
       "      <td>1</td>\n",
       "      <td>1</td>\n",
       "    </tr>\n",
       "    <tr>\n",
       "      <th>1</th>\n",
       "      <td>../../SiameseData/UTSig/Genuine/1/10.jpg</td>\n",
       "      <td>1</td>\n",
       "      <td>10</td>\n",
       "    </tr>\n",
       "    <tr>\n",
       "      <th>2</th>\n",
       "      <td>../../SiameseData/UTSig/Genuine/1/11.jpg</td>\n",
       "      <td>1</td>\n",
       "      <td>11</td>\n",
       "    </tr>\n",
       "    <tr>\n",
       "      <th>3</th>\n",
       "      <td>../../SiameseData/UTSig/Genuine/1/12.jpg</td>\n",
       "      <td>1</td>\n",
       "      <td>12</td>\n",
       "    </tr>\n",
       "    <tr>\n",
       "      <th>4</th>\n",
       "      <td>../../SiameseData/UTSig/Genuine/1/13.jpg</td>\n",
       "      <td>1</td>\n",
       "      <td>13</td>\n",
       "    </tr>\n",
       "  </tbody>\n",
       "</table>\n",
       "</div>"
      ],
      "text/plain": [
       "                                  real_path  real_id  real_idx\n",
       "0   ../../SiameseData/UTSig/Genuine/1/1.jpg        1         1\n",
       "1  ../../SiameseData/UTSig/Genuine/1/10.jpg        1        10\n",
       "2  ../../SiameseData/UTSig/Genuine/1/11.jpg        1        11\n",
       "3  ../../SiameseData/UTSig/Genuine/1/12.jpg        1        12\n",
       "4  ../../SiameseData/UTSig/Genuine/1/13.jpg        1        13"
      ]
     },
     "execution_count": 14,
     "metadata": {},
     "output_type": "execute_result"
    }
   ],
   "source": [
    "real_df=pd.DataFrame(real,columns=['real_path'])\n",
    "real_df['real_id']=real_df.real_path.apply(lambda x:x.split('/')[-2]).astype(int)\n",
    "real_df['real_idx']=real_df.real_path.apply(lambda x:x.split('/')[-1].split('.')[0]).astype(int)\n",
    "print(len(real_df))\n",
    "\n",
    "real_df.head()"
   ]
  },
  {
   "cell_type": "code",
   "execution_count": 15,
   "id": "21f58817",
   "metadata": {},
   "outputs": [
    {
     "data": {
      "text/plain": [
       "14997150"
      ]
     },
     "execution_count": 15,
     "metadata": {},
     "output_type": "execute_result"
    }
   ],
   "source": [
    "4830*3105"
   ]
  },
  {
   "cell_type": "code",
   "execution_count": 16,
   "id": "e39f5af1",
   "metadata": {},
   "outputs": [
    {
     "name": "stdout",
     "output_type": "stream",
     "text": [
      "4830\n"
     ]
    },
    {
     "data": {
      "text/html": [
       "<div>\n",
       "<style scoped>\n",
       "    .dataframe tbody tr th:only-of-type {\n",
       "        vertical-align: middle;\n",
       "    }\n",
       "\n",
       "    .dataframe tbody tr th {\n",
       "        vertical-align: top;\n",
       "    }\n",
       "\n",
       "    .dataframe thead th {\n",
       "        text-align: right;\n",
       "    }\n",
       "</style>\n",
       "<table border=\"1\" class=\"dataframe\">\n",
       "  <thead>\n",
       "    <tr style=\"text-align: right;\">\n",
       "      <th></th>\n",
       "      <th>forged_path</th>\n",
       "      <th>forged_id</th>\n",
       "      <th>forged_idx</th>\n",
       "    </tr>\n",
       "  </thead>\n",
       "  <tbody>\n",
       "    <tr>\n",
       "      <th>0</th>\n",
       "      <td>../../SiameseData/UTSig/Forgery/Simple/1/11.jpg</td>\n",
       "      <td>1</td>\n",
       "      <td>11</td>\n",
       "    </tr>\n",
       "    <tr>\n",
       "      <th>1</th>\n",
       "      <td>../../SiameseData/UTSig/Forgery/Simple/1/12.jpg</td>\n",
       "      <td>1</td>\n",
       "      <td>12</td>\n",
       "    </tr>\n",
       "    <tr>\n",
       "      <th>2</th>\n",
       "      <td>../../SiameseData/UTSig/Forgery/Simple/1/13.jpg</td>\n",
       "      <td>1</td>\n",
       "      <td>13</td>\n",
       "    </tr>\n",
       "    <tr>\n",
       "      <th>3</th>\n",
       "      <td>../../SiameseData/UTSig/Forgery/Simple/1/14.jpg</td>\n",
       "      <td>1</td>\n",
       "      <td>14</td>\n",
       "    </tr>\n",
       "    <tr>\n",
       "      <th>4</th>\n",
       "      <td>../../SiameseData/UTSig/Forgery/Simple/1/15.jpg</td>\n",
       "      <td>1</td>\n",
       "      <td>15</td>\n",
       "    </tr>\n",
       "  </tbody>\n",
       "</table>\n",
       "</div>"
      ],
      "text/plain": [
       "                                       forged_path  forged_id  forged_idx\n",
       "0  ../../SiameseData/UTSig/Forgery/Simple/1/11.jpg          1          11\n",
       "1  ../../SiameseData/UTSig/Forgery/Simple/1/12.jpg          1          12\n",
       "2  ../../SiameseData/UTSig/Forgery/Simple/1/13.jpg          1          13\n",
       "3  ../../SiameseData/UTSig/Forgery/Simple/1/14.jpg          1          14\n",
       "4  ../../SiameseData/UTSig/Forgery/Simple/1/15.jpg          1          15"
      ]
     },
     "execution_count": 16,
     "metadata": {},
     "output_type": "execute_result"
    }
   ],
   "source": [
    "forged_df=pd.DataFrame(forged,columns=['forged_path'])\n",
    "forged_df['forged_id']=forged_df.forged_path.apply(lambda x:x.split('/')[-2]).astype(int)\n",
    "forged_df['forged_idx']=forged_df.forged_path.apply(lambda x:x.split('/')[-1].split('.')[0]).astype(int)\n",
    "print(len(forged_df))\n",
    "forged_df.head()"
   ]
  },
  {
   "cell_type": "code",
   "execution_count": 17,
   "id": "71180051",
   "metadata": {},
   "outputs": [
    {
     "name": "stdout",
     "output_type": "stream",
     "text": [
      "130410\n"
     ]
    },
    {
     "data": {
      "text/html": [
       "<div>\n",
       "<style scoped>\n",
       "    .dataframe tbody tr th:only-of-type {\n",
       "        vertical-align: middle;\n",
       "    }\n",
       "\n",
       "    .dataframe tbody tr th {\n",
       "        vertical-align: top;\n",
       "    }\n",
       "\n",
       "    .dataframe thead th {\n",
       "        text-align: right;\n",
       "    }\n",
       "</style>\n",
       "<table border=\"1\" class=\"dataframe\">\n",
       "  <thead>\n",
       "    <tr style=\"text-align: right;\">\n",
       "      <th></th>\n",
       "      <th>real_path</th>\n",
       "      <th>real_id</th>\n",
       "      <th>real_idx</th>\n",
       "      <th>forged_path</th>\n",
       "      <th>forged_id</th>\n",
       "      <th>forged_idx</th>\n",
       "      <th>data</th>\n",
       "    </tr>\n",
       "  </thead>\n",
       "  <tbody>\n",
       "    <tr>\n",
       "      <th>0</th>\n",
       "      <td>../../SiameseData/UTSig/Genuine/1/1.jpg</td>\n",
       "      <td>1</td>\n",
       "      <td>1</td>\n",
       "      <td>../../SiameseData/UTSig/Forgery/Simple/1/11.jpg</td>\n",
       "      <td>1</td>\n",
       "      <td>11</td>\n",
       "      <td>utsig</td>\n",
       "    </tr>\n",
       "    <tr>\n",
       "      <th>1</th>\n",
       "      <td>../../SiameseData/UTSig/Genuine/1/1.jpg</td>\n",
       "      <td>1</td>\n",
       "      <td>1</td>\n",
       "      <td>../../SiameseData/UTSig/Forgery/Simple/1/12.jpg</td>\n",
       "      <td>1</td>\n",
       "      <td>12</td>\n",
       "      <td>utsig</td>\n",
       "    </tr>\n",
       "    <tr>\n",
       "      <th>2</th>\n",
       "      <td>../../SiameseData/UTSig/Genuine/1/1.jpg</td>\n",
       "      <td>1</td>\n",
       "      <td>1</td>\n",
       "      <td>../../SiameseData/UTSig/Forgery/Simple/1/13.jpg</td>\n",
       "      <td>1</td>\n",
       "      <td>13</td>\n",
       "      <td>utsig</td>\n",
       "    </tr>\n",
       "    <tr>\n",
       "      <th>3</th>\n",
       "      <td>../../SiameseData/UTSig/Genuine/1/1.jpg</td>\n",
       "      <td>1</td>\n",
       "      <td>1</td>\n",
       "      <td>../../SiameseData/UTSig/Forgery/Simple/1/14.jpg</td>\n",
       "      <td>1</td>\n",
       "      <td>14</td>\n",
       "      <td>utsig</td>\n",
       "    </tr>\n",
       "    <tr>\n",
       "      <th>4</th>\n",
       "      <td>../../SiameseData/UTSig/Genuine/1/1.jpg</td>\n",
       "      <td>1</td>\n",
       "      <td>1</td>\n",
       "      <td>../../SiameseData/UTSig/Forgery/Simple/1/15.jpg</td>\n",
       "      <td>1</td>\n",
       "      <td>15</td>\n",
       "      <td>utsig</td>\n",
       "    </tr>\n",
       "  </tbody>\n",
       "</table>\n",
       "</div>"
      ],
      "text/plain": [
       "                                 real_path  real_id  real_idx  \\\n",
       "0  ../../SiameseData/UTSig/Genuine/1/1.jpg        1         1   \n",
       "1  ../../SiameseData/UTSig/Genuine/1/1.jpg        1         1   \n",
       "2  ../../SiameseData/UTSig/Genuine/1/1.jpg        1         1   \n",
       "3  ../../SiameseData/UTSig/Genuine/1/1.jpg        1         1   \n",
       "4  ../../SiameseData/UTSig/Genuine/1/1.jpg        1         1   \n",
       "\n",
       "                                       forged_path  forged_id  forged_idx  \\\n",
       "0  ../../SiameseData/UTSig/Forgery/Simple/1/11.jpg          1          11   \n",
       "1  ../../SiameseData/UTSig/Forgery/Simple/1/12.jpg          1          12   \n",
       "2  ../../SiameseData/UTSig/Forgery/Simple/1/13.jpg          1          13   \n",
       "3  ../../SiameseData/UTSig/Forgery/Simple/1/14.jpg          1          14   \n",
       "4  ../../SiameseData/UTSig/Forgery/Simple/1/15.jpg          1          15   \n",
       "\n",
       "    data  \n",
       "0  utsig  \n",
       "1  utsig  \n",
       "2  utsig  \n",
       "3  utsig  \n",
       "4  utsig  "
      ]
     },
     "execution_count": 17,
     "metadata": {},
     "output_type": "execute_result"
    }
   ],
   "source": [
    "df=real_df.merge(forged_df,left_on='real_id',right_on='forged_id',how='inner')\n",
    "df['data']='utsig'\n",
    "print(len(df))\n",
    "df.head()"
   ]
  },
  {
   "cell_type": "code",
   "execution_count": 18,
   "id": "46c088a6",
   "metadata": {},
   "outputs": [
    {
     "data": {
      "text/plain": [
       "real_path      0\n",
       "real_id        0\n",
       "real_idx       0\n",
       "forged_path    0\n",
       "forged_id      0\n",
       "forged_idx     0\n",
       "data           0\n",
       "dtype: int64"
      ]
     },
     "execution_count": 18,
     "metadata": {},
     "output_type": "execute_result"
    }
   ],
   "source": [
    "df.isna().sum()"
   ]
  },
  {
   "cell_type": "markdown",
   "id": "77545c07",
   "metadata": {},
   "source": [
    "# bengali"
   ]
  },
  {
   "cell_type": "code",
   "execution_count": 19,
   "id": "291cbb8b",
   "metadata": {},
   "outputs": [
    {
     "name": "stdout",
     "output_type": "stream",
     "text": [
      "1    14  2   25  30  36  41  47  52  58  63  69  74  8\t 85  90  96\r\n",
      "10   15  20  26  31  37  42  48  53  59  64  7\t 75  80  86  91  97\r\n",
      "100  16  21  27  32  38  43  49  54  6\t 65  70  76  81  87  92  98\r\n",
      "11   17  22  28  33  39  44  5\t 55  60  66  71  77  82  88  93  99\r\n",
      "12   18  23  29  34  4\t 45  50  56  61  67  72  78  83  89  94\r\n",
      "13   19  24  3\t 35  40  46  51  57  62  68  73  79  84  9   95\r\n"
     ]
    }
   ],
   "source": [
    "!ls ../../archive_1/BHSig260-Bengali/BHSig260-Bengali"
   ]
  },
  {
   "cell_type": "code",
   "execution_count": 20,
   "id": "84df15b5",
   "metadata": {},
   "outputs": [
    {
     "name": "stdout",
     "output_type": "stream",
     "text": [
      "3000 2400\n",
      "2400 3000\n"
     ]
    }
   ],
   "source": [
    "data=glob('../../archive_1/BHSig260-Bengali/BHSig260-Bengali/*/*.tif')\n",
    "real=[i for i in data if '-G-' in i]\n",
    "forged=[i for i in data if '-F-' in i]\n",
    "forged=convert2jpg(forged)\n",
    "real=convert2jpg(real)\n",
    "print(len(forged),len(real))\n",
    "print(len(real),len(forged))"
   ]
  },
  {
   "cell_type": "code",
   "execution_count": 21,
   "id": "a51824ea",
   "metadata": {},
   "outputs": [
    {
     "name": "stdout",
     "output_type": "stream",
     "text": [
      "2400\n"
     ]
    },
    {
     "data": {
      "text/html": [
       "<div>\n",
       "<style scoped>\n",
       "    .dataframe tbody tr th:only-of-type {\n",
       "        vertical-align: middle;\n",
       "    }\n",
       "\n",
       "    .dataframe tbody tr th {\n",
       "        vertical-align: top;\n",
       "    }\n",
       "\n",
       "    .dataframe thead th {\n",
       "        text-align: right;\n",
       "    }\n",
       "</style>\n",
       "<table border=\"1\" class=\"dataframe\">\n",
       "  <thead>\n",
       "    <tr style=\"text-align: right;\">\n",
       "      <th></th>\n",
       "      <th>real_path</th>\n",
       "      <th>real_id</th>\n",
       "      <th>real_idx</th>\n",
       "    </tr>\n",
       "  </thead>\n",
       "  <tbody>\n",
       "    <tr>\n",
       "      <th>0</th>\n",
       "      <td>../../SiameseData/archive_1/BHSig260-Bengali/B...</td>\n",
       "      <td>29</td>\n",
       "      <td>6</td>\n",
       "    </tr>\n",
       "    <tr>\n",
       "      <th>1</th>\n",
       "      <td>../../SiameseData/archive_1/BHSig260-Bengali/B...</td>\n",
       "      <td>29</td>\n",
       "      <td>1</td>\n",
       "    </tr>\n",
       "    <tr>\n",
       "      <th>2</th>\n",
       "      <td>../../SiameseData/archive_1/BHSig260-Bengali/B...</td>\n",
       "      <td>29</td>\n",
       "      <td>2</td>\n",
       "    </tr>\n",
       "    <tr>\n",
       "      <th>3</th>\n",
       "      <td>../../SiameseData/archive_1/BHSig260-Bengali/B...</td>\n",
       "      <td>29</td>\n",
       "      <td>3</td>\n",
       "    </tr>\n",
       "    <tr>\n",
       "      <th>4</th>\n",
       "      <td>../../SiameseData/archive_1/BHSig260-Bengali/B...</td>\n",
       "      <td>29</td>\n",
       "      <td>4</td>\n",
       "    </tr>\n",
       "  </tbody>\n",
       "</table>\n",
       "</div>"
      ],
      "text/plain": [
       "                                           real_path  real_id  real_idx\n",
       "0  ../../SiameseData/archive_1/BHSig260-Bengali/B...       29         6\n",
       "1  ../../SiameseData/archive_1/BHSig260-Bengali/B...       29         1\n",
       "2  ../../SiameseData/archive_1/BHSig260-Bengali/B...       29         2\n",
       "3  ../../SiameseData/archive_1/BHSig260-Bengali/B...       29         3\n",
       "4  ../../SiameseData/archive_1/BHSig260-Bengali/B...       29         4"
      ]
     },
     "execution_count": 21,
     "metadata": {},
     "output_type": "execute_result"
    }
   ],
   "source": [
    "real_df=pd.DataFrame(real,columns=['real_path'])\n",
    "real_df['real_id']=real_df.real_path.apply(lambda x:x.split('/')[-2]).astype(int)\n",
    "real_df['real_idx']=real_df.real_path.apply(lambda x:x.split('/')[-1].split('-')[-1].split('.')[0]).astype(int)\n",
    "print(len(real_df))\n",
    "\n",
    "real_df.head()"
   ]
  },
  {
   "cell_type": "code",
   "execution_count": 22,
   "id": "cd094722",
   "metadata": {},
   "outputs": [
    {
     "data": {
      "text/plain": [
       "100.0"
      ]
     },
     "execution_count": 22,
     "metadata": {},
     "output_type": "execute_result"
    }
   ],
   "source": [
    "(3000*2400)/72000"
   ]
  },
  {
   "cell_type": "code",
   "execution_count": 23,
   "id": "dbcf77cd",
   "metadata": {},
   "outputs": [
    {
     "name": "stdout",
     "output_type": "stream",
     "text": [
      "3000\n"
     ]
    },
    {
     "data": {
      "text/html": [
       "<div>\n",
       "<style scoped>\n",
       "    .dataframe tbody tr th:only-of-type {\n",
       "        vertical-align: middle;\n",
       "    }\n",
       "\n",
       "    .dataframe tbody tr th {\n",
       "        vertical-align: top;\n",
       "    }\n",
       "\n",
       "    .dataframe thead th {\n",
       "        text-align: right;\n",
       "    }\n",
       "</style>\n",
       "<table border=\"1\" class=\"dataframe\">\n",
       "  <thead>\n",
       "    <tr style=\"text-align: right;\">\n",
       "      <th></th>\n",
       "      <th>forged_path</th>\n",
       "      <th>forged_id</th>\n",
       "      <th>forged_idx</th>\n",
       "    </tr>\n",
       "  </thead>\n",
       "  <tbody>\n",
       "    <tr>\n",
       "      <th>0</th>\n",
       "      <td>../../SiameseData/archive_1/BHSig260-Bengali/B...</td>\n",
       "      <td>29</td>\n",
       "      <td>18</td>\n",
       "    </tr>\n",
       "    <tr>\n",
       "      <th>1</th>\n",
       "      <td>../../SiameseData/archive_1/BHSig260-Bengali/B...</td>\n",
       "      <td>29</td>\n",
       "      <td>1</td>\n",
       "    </tr>\n",
       "    <tr>\n",
       "      <th>2</th>\n",
       "      <td>../../SiameseData/archive_1/BHSig260-Bengali/B...</td>\n",
       "      <td>29</td>\n",
       "      <td>2</td>\n",
       "    </tr>\n",
       "    <tr>\n",
       "      <th>3</th>\n",
       "      <td>../../SiameseData/archive_1/BHSig260-Bengali/B...</td>\n",
       "      <td>29</td>\n",
       "      <td>3</td>\n",
       "    </tr>\n",
       "    <tr>\n",
       "      <th>4</th>\n",
       "      <td>../../SiameseData/archive_1/BHSig260-Bengali/B...</td>\n",
       "      <td>29</td>\n",
       "      <td>4</td>\n",
       "    </tr>\n",
       "  </tbody>\n",
       "</table>\n",
       "</div>"
      ],
      "text/plain": [
       "                                         forged_path  forged_id  forged_idx\n",
       "0  ../../SiameseData/archive_1/BHSig260-Bengali/B...         29          18\n",
       "1  ../../SiameseData/archive_1/BHSig260-Bengali/B...         29           1\n",
       "2  ../../SiameseData/archive_1/BHSig260-Bengali/B...         29           2\n",
       "3  ../../SiameseData/archive_1/BHSig260-Bengali/B...         29           3\n",
       "4  ../../SiameseData/archive_1/BHSig260-Bengali/B...         29           4"
      ]
     },
     "execution_count": 23,
     "metadata": {},
     "output_type": "execute_result"
    }
   ],
   "source": [
    "forged_df=pd.DataFrame(forged,columns=['forged_path'])\n",
    "forged_df['forged_id']=forged_df.forged_path.apply(lambda x:x.split('/')[-2]).astype(int)\n",
    "forged_df['forged_idx']=forged_df.forged_path.apply(lambda x:x.split('/')[-1].split('-')[-1].split('.')[0]).astype(int)\n",
    "print(len(forged_df))\n",
    "forged_df.head()"
   ]
  },
  {
   "cell_type": "code",
   "execution_count": 24,
   "id": "8898e8c5",
   "metadata": {},
   "outputs": [
    {
     "name": "stdout",
     "output_type": "stream",
     "text": [
      "72000\n"
     ]
    },
    {
     "data": {
      "text/html": [
       "<div>\n",
       "<style scoped>\n",
       "    .dataframe tbody tr th:only-of-type {\n",
       "        vertical-align: middle;\n",
       "    }\n",
       "\n",
       "    .dataframe tbody tr th {\n",
       "        vertical-align: top;\n",
       "    }\n",
       "\n",
       "    .dataframe thead th {\n",
       "        text-align: right;\n",
       "    }\n",
       "</style>\n",
       "<table border=\"1\" class=\"dataframe\">\n",
       "  <thead>\n",
       "    <tr style=\"text-align: right;\">\n",
       "      <th></th>\n",
       "      <th>real_path</th>\n",
       "      <th>real_id</th>\n",
       "      <th>real_idx</th>\n",
       "      <th>forged_path</th>\n",
       "      <th>forged_id</th>\n",
       "      <th>forged_idx</th>\n",
       "      <th>data</th>\n",
       "    </tr>\n",
       "  </thead>\n",
       "  <tbody>\n",
       "    <tr>\n",
       "      <th>0</th>\n",
       "      <td>../../SiameseData/archive_1/BHSig260-Bengali/B...</td>\n",
       "      <td>29</td>\n",
       "      <td>6</td>\n",
       "      <td>../../SiameseData/archive_1/BHSig260-Bengali/B...</td>\n",
       "      <td>29</td>\n",
       "      <td>18</td>\n",
       "      <td>bengali</td>\n",
       "    </tr>\n",
       "    <tr>\n",
       "      <th>1</th>\n",
       "      <td>../../SiameseData/archive_1/BHSig260-Bengali/B...</td>\n",
       "      <td>29</td>\n",
       "      <td>6</td>\n",
       "      <td>../../SiameseData/archive_1/BHSig260-Bengali/B...</td>\n",
       "      <td>29</td>\n",
       "      <td>1</td>\n",
       "      <td>bengali</td>\n",
       "    </tr>\n",
       "    <tr>\n",
       "      <th>2</th>\n",
       "      <td>../../SiameseData/archive_1/BHSig260-Bengali/B...</td>\n",
       "      <td>29</td>\n",
       "      <td>6</td>\n",
       "      <td>../../SiameseData/archive_1/BHSig260-Bengali/B...</td>\n",
       "      <td>29</td>\n",
       "      <td>2</td>\n",
       "      <td>bengali</td>\n",
       "    </tr>\n",
       "    <tr>\n",
       "      <th>3</th>\n",
       "      <td>../../SiameseData/archive_1/BHSig260-Bengali/B...</td>\n",
       "      <td>29</td>\n",
       "      <td>6</td>\n",
       "      <td>../../SiameseData/archive_1/BHSig260-Bengali/B...</td>\n",
       "      <td>29</td>\n",
       "      <td>3</td>\n",
       "      <td>bengali</td>\n",
       "    </tr>\n",
       "    <tr>\n",
       "      <th>4</th>\n",
       "      <td>../../SiameseData/archive_1/BHSig260-Bengali/B...</td>\n",
       "      <td>29</td>\n",
       "      <td>6</td>\n",
       "      <td>../../SiameseData/archive_1/BHSig260-Bengali/B...</td>\n",
       "      <td>29</td>\n",
       "      <td>4</td>\n",
       "      <td>bengali</td>\n",
       "    </tr>\n",
       "  </tbody>\n",
       "</table>\n",
       "</div>"
      ],
      "text/plain": [
       "                                           real_path  real_id  real_idx  \\\n",
       "0  ../../SiameseData/archive_1/BHSig260-Bengali/B...       29         6   \n",
       "1  ../../SiameseData/archive_1/BHSig260-Bengali/B...       29         6   \n",
       "2  ../../SiameseData/archive_1/BHSig260-Bengali/B...       29         6   \n",
       "3  ../../SiameseData/archive_1/BHSig260-Bengali/B...       29         6   \n",
       "4  ../../SiameseData/archive_1/BHSig260-Bengali/B...       29         6   \n",
       "\n",
       "                                         forged_path  forged_id  forged_idx  \\\n",
       "0  ../../SiameseData/archive_1/BHSig260-Bengali/B...         29          18   \n",
       "1  ../../SiameseData/archive_1/BHSig260-Bengali/B...         29           1   \n",
       "2  ../../SiameseData/archive_1/BHSig260-Bengali/B...         29           2   \n",
       "3  ../../SiameseData/archive_1/BHSig260-Bengali/B...         29           3   \n",
       "4  ../../SiameseData/archive_1/BHSig260-Bengali/B...         29           4   \n",
       "\n",
       "      data  \n",
       "0  bengali  \n",
       "1  bengali  \n",
       "2  bengali  \n",
       "3  bengali  \n",
       "4  bengali  "
      ]
     },
     "execution_count": 24,
     "metadata": {},
     "output_type": "execute_result"
    }
   ],
   "source": [
    "df1=real_df.merge(forged_df,left_on='real_id',right_on='forged_id',how='inner')\n",
    "df1['data']='bengali'\n",
    "print(len(df1))\n",
    "df1.head()"
   ]
  },
  {
   "cell_type": "markdown",
   "id": "edf7fbd2",
   "metadata": {},
   "source": [
    "# hindi"
   ]
  },
  {
   "cell_type": "code",
   "execution_count": 25,
   "id": "58f74cbf",
   "metadata": {},
   "outputs": [
    {
     "name": "stdout",
     "output_type": "stream",
     "text": [
      "1    107  115  123  131  14   148  156\t2   28\t36  44\t52  60\t69  77\t85  93\r\n",
      "10   108  116  124  132  140  149  157\t20  29\t37  45\t53  61\t7   78\t86  94\r\n",
      "100  109  117  125  133  141  15   158\t21  3\t38  46\t54  62\t70  79\t87  95\r\n",
      "101  11   118  126  134  142  150  159\t22  30\t39  47\t55  63\t71  8\t88  96\r\n",
      "102  110  119  127  135  143  151  16\t23  31\t4   48\t56  64\t72  80\t89  97\r\n",
      "103  111  12   128  136  144  152  160\t24  32\t40  49\t57  65\t73  81\t9   98\r\n",
      "104  112  120  129  137  145  153  17\t25  33\t41  5\t58  66\t74  82\t90  99\r\n",
      "105  113  121  13   138  146  154  18\t26  34\t42  50\t59  67\t75  83\t91\r\n",
      "106  114  122  130  139  147  155  19\t27  35\t43  51\t6   68\t76  84\t92\r\n"
     ]
    }
   ],
   "source": [
    "!ls ../../archive_1/BHSig260-Hindi/BHSig260-Hindi"
   ]
  },
  {
   "cell_type": "code",
   "execution_count": 60,
   "id": "6d81cbce",
   "metadata": {},
   "outputs": [
    {
     "name": "stdout",
     "output_type": "stream",
     "text": [
      "4799 3840\n"
     ]
    }
   ],
   "source": [
    "data=glob('../../archive_1/BHSig260-Hindi/BHSig260-Hindi/*/*.tif')\n",
    "real=[i for i in data if '-G-' in i]\n",
    "forged=[i for i in data if '-F-' in i]\n",
    "print(len(forged),len(real))\n"
   ]
  },
  {
   "cell_type": "code",
   "execution_count": 61,
   "id": "e66f2f37",
   "metadata": {},
   "outputs": [
    {
     "name": "stdout",
     "output_type": "stream",
     "text": [
      "3840 4798\n"
     ]
    }
   ],
   "source": [
    "forged=convert2jpg(forged)\n",
    "real=convert2jpg(real)\n",
    "print(len(real),len(forged))"
   ]
  },
  {
   "cell_type": "code",
   "execution_count": 62,
   "id": "0b49006f",
   "metadata": {},
   "outputs": [
    {
     "name": "stdout",
     "output_type": "stream",
     "text": [
      "3840\n"
     ]
    },
    {
     "data": {
      "text/html": [
       "<div>\n",
       "<style scoped>\n",
       "    .dataframe tbody tr th:only-of-type {\n",
       "        vertical-align: middle;\n",
       "    }\n",
       "\n",
       "    .dataframe tbody tr th {\n",
       "        vertical-align: top;\n",
       "    }\n",
       "\n",
       "    .dataframe thead th {\n",
       "        text-align: right;\n",
       "    }\n",
       "</style>\n",
       "<table border=\"1\" class=\"dataframe\">\n",
       "  <thead>\n",
       "    <tr style=\"text-align: right;\">\n",
       "      <th></th>\n",
       "      <th>real_path</th>\n",
       "      <th>real_id</th>\n",
       "      <th>real_idx</th>\n",
       "    </tr>\n",
       "  </thead>\n",
       "  <tbody>\n",
       "    <tr>\n",
       "      <th>0</th>\n",
       "      <td>../../SiameseData/archive_1/BHSig260-Hindi/BHS...</td>\n",
       "      <td>1</td>\n",
       "      <td>6</td>\n",
       "    </tr>\n",
       "    <tr>\n",
       "      <th>1</th>\n",
       "      <td>../../SiameseData/archive_1/BHSig260-Hindi/BHS...</td>\n",
       "      <td>1</td>\n",
       "      <td>1</td>\n",
       "    </tr>\n",
       "    <tr>\n",
       "      <th>2</th>\n",
       "      <td>../../SiameseData/archive_1/BHSig260-Hindi/BHS...</td>\n",
       "      <td>1</td>\n",
       "      <td>2</td>\n",
       "    </tr>\n",
       "    <tr>\n",
       "      <th>3</th>\n",
       "      <td>../../SiameseData/archive_1/BHSig260-Hindi/BHS...</td>\n",
       "      <td>1</td>\n",
       "      <td>3</td>\n",
       "    </tr>\n",
       "    <tr>\n",
       "      <th>4</th>\n",
       "      <td>../../SiameseData/archive_1/BHSig260-Hindi/BHS...</td>\n",
       "      <td>1</td>\n",
       "      <td>4</td>\n",
       "    </tr>\n",
       "  </tbody>\n",
       "</table>\n",
       "</div>"
      ],
      "text/plain": [
       "                                           real_path  real_id  real_idx\n",
       "0  ../../SiameseData/archive_1/BHSig260-Hindi/BHS...        1         6\n",
       "1  ../../SiameseData/archive_1/BHSig260-Hindi/BHS...        1         1\n",
       "2  ../../SiameseData/archive_1/BHSig260-Hindi/BHS...        1         2\n",
       "3  ../../SiameseData/archive_1/BHSig260-Hindi/BHS...        1         3\n",
       "4  ../../SiameseData/archive_1/BHSig260-Hindi/BHS...        1         4"
      ]
     },
     "execution_count": 62,
     "metadata": {},
     "output_type": "execute_result"
    }
   ],
   "source": [
    "real_df=pd.DataFrame(real,columns=['real_path'])\n",
    "real_df['real_id']=real_df.real_path.apply(lambda x:x.split('/')[-2]).astype(int)\n",
    "real_df['real_idx']=real_df.real_path.apply(lambda x:x.split('/')[-1].split('-')[-1].split('.')[0]).astype(int)\n",
    "print(len(real_df))\n",
    "\n",
    "real_df.head()"
   ]
  },
  {
   "cell_type": "code",
   "execution_count": 63,
   "id": "f7c5ddc8",
   "metadata": {},
   "outputs": [
    {
     "name": "stdout",
     "output_type": "stream",
     "text": [
      "4798\n"
     ]
    },
    {
     "data": {
      "text/html": [
       "<div>\n",
       "<style scoped>\n",
       "    .dataframe tbody tr th:only-of-type {\n",
       "        vertical-align: middle;\n",
       "    }\n",
       "\n",
       "    .dataframe tbody tr th {\n",
       "        vertical-align: top;\n",
       "    }\n",
       "\n",
       "    .dataframe thead th {\n",
       "        text-align: right;\n",
       "    }\n",
       "</style>\n",
       "<table border=\"1\" class=\"dataframe\">\n",
       "  <thead>\n",
       "    <tr style=\"text-align: right;\">\n",
       "      <th></th>\n",
       "      <th>forged_path</th>\n",
       "      <th>forged_id</th>\n",
       "      <th>forged_idx</th>\n",
       "    </tr>\n",
       "  </thead>\n",
       "  <tbody>\n",
       "    <tr>\n",
       "      <th>0</th>\n",
       "      <td>../../SiameseData/archive_1/BHSig260-Hindi/BHS...</td>\n",
       "      <td>1</td>\n",
       "      <td>18</td>\n",
       "    </tr>\n",
       "    <tr>\n",
       "      <th>1</th>\n",
       "      <td>../../SiameseData/archive_1/BHSig260-Hindi/BHS...</td>\n",
       "      <td>1</td>\n",
       "      <td>1</td>\n",
       "    </tr>\n",
       "    <tr>\n",
       "      <th>2</th>\n",
       "      <td>../../SiameseData/archive_1/BHSig260-Hindi/BHS...</td>\n",
       "      <td>1</td>\n",
       "      <td>2</td>\n",
       "    </tr>\n",
       "    <tr>\n",
       "      <th>3</th>\n",
       "      <td>../../SiameseData/archive_1/BHSig260-Hindi/BHS...</td>\n",
       "      <td>1</td>\n",
       "      <td>3</td>\n",
       "    </tr>\n",
       "    <tr>\n",
       "      <th>4</th>\n",
       "      <td>../../SiameseData/archive_1/BHSig260-Hindi/BHS...</td>\n",
       "      <td>1</td>\n",
       "      <td>4</td>\n",
       "    </tr>\n",
       "  </tbody>\n",
       "</table>\n",
       "</div>"
      ],
      "text/plain": [
       "                                         forged_path  forged_id  forged_idx\n",
       "0  ../../SiameseData/archive_1/BHSig260-Hindi/BHS...          1          18\n",
       "1  ../../SiameseData/archive_1/BHSig260-Hindi/BHS...          1           1\n",
       "2  ../../SiameseData/archive_1/BHSig260-Hindi/BHS...          1           2\n",
       "3  ../../SiameseData/archive_1/BHSig260-Hindi/BHS...          1           3\n",
       "4  ../../SiameseData/archive_1/BHSig260-Hindi/BHS...          1           4"
      ]
     },
     "execution_count": 63,
     "metadata": {},
     "output_type": "execute_result"
    }
   ],
   "source": [
    "forged_df=pd.DataFrame(forged,columns=['forged_path'])\n",
    "forged_df['forged_id']=forged_df.forged_path.apply(lambda x:x.split('/')[-2]).astype(int)\n",
    "forged_df['forged_idx']=forged_df.forged_path.apply(lambda x:x.split('/')[-1].split('-')[-1].split('.')[0]).astype(int)\n",
    "print(len(forged_df))\n",
    "forged_df.head()"
   ]
  },
  {
   "cell_type": "code",
   "execution_count": 64,
   "id": "d680b9ab",
   "metadata": {},
   "outputs": [
    {
     "name": "stdout",
     "output_type": "stream",
     "text": [
      "115152\n"
     ]
    },
    {
     "data": {
      "text/html": [
       "<div>\n",
       "<style scoped>\n",
       "    .dataframe tbody tr th:only-of-type {\n",
       "        vertical-align: middle;\n",
       "    }\n",
       "\n",
       "    .dataframe tbody tr th {\n",
       "        vertical-align: top;\n",
       "    }\n",
       "\n",
       "    .dataframe thead th {\n",
       "        text-align: right;\n",
       "    }\n",
       "</style>\n",
       "<table border=\"1\" class=\"dataframe\">\n",
       "  <thead>\n",
       "    <tr style=\"text-align: right;\">\n",
       "      <th></th>\n",
       "      <th>real_path</th>\n",
       "      <th>real_id</th>\n",
       "      <th>real_idx</th>\n",
       "      <th>forged_path</th>\n",
       "      <th>forged_id</th>\n",
       "      <th>forged_idx</th>\n",
       "      <th>data</th>\n",
       "    </tr>\n",
       "  </thead>\n",
       "  <tbody>\n",
       "    <tr>\n",
       "      <th>0</th>\n",
       "      <td>../../SiameseData/archive_1/BHSig260-Hindi/BHS...</td>\n",
       "      <td>1</td>\n",
       "      <td>6</td>\n",
       "      <td>../../SiameseData/archive_1/BHSig260-Hindi/BHS...</td>\n",
       "      <td>1</td>\n",
       "      <td>18</td>\n",
       "      <td>hindi</td>\n",
       "    </tr>\n",
       "    <tr>\n",
       "      <th>1</th>\n",
       "      <td>../../SiameseData/archive_1/BHSig260-Hindi/BHS...</td>\n",
       "      <td>1</td>\n",
       "      <td>6</td>\n",
       "      <td>../../SiameseData/archive_1/BHSig260-Hindi/BHS...</td>\n",
       "      <td>1</td>\n",
       "      <td>1</td>\n",
       "      <td>hindi</td>\n",
       "    </tr>\n",
       "    <tr>\n",
       "      <th>2</th>\n",
       "      <td>../../SiameseData/archive_1/BHSig260-Hindi/BHS...</td>\n",
       "      <td>1</td>\n",
       "      <td>6</td>\n",
       "      <td>../../SiameseData/archive_1/BHSig260-Hindi/BHS...</td>\n",
       "      <td>1</td>\n",
       "      <td>2</td>\n",
       "      <td>hindi</td>\n",
       "    </tr>\n",
       "    <tr>\n",
       "      <th>3</th>\n",
       "      <td>../../SiameseData/archive_1/BHSig260-Hindi/BHS...</td>\n",
       "      <td>1</td>\n",
       "      <td>6</td>\n",
       "      <td>../../SiameseData/archive_1/BHSig260-Hindi/BHS...</td>\n",
       "      <td>1</td>\n",
       "      <td>3</td>\n",
       "      <td>hindi</td>\n",
       "    </tr>\n",
       "    <tr>\n",
       "      <th>4</th>\n",
       "      <td>../../SiameseData/archive_1/BHSig260-Hindi/BHS...</td>\n",
       "      <td>1</td>\n",
       "      <td>6</td>\n",
       "      <td>../../SiameseData/archive_1/BHSig260-Hindi/BHS...</td>\n",
       "      <td>1</td>\n",
       "      <td>4</td>\n",
       "      <td>hindi</td>\n",
       "    </tr>\n",
       "  </tbody>\n",
       "</table>\n",
       "</div>"
      ],
      "text/plain": [
       "                                           real_path  real_id  real_idx  \\\n",
       "0  ../../SiameseData/archive_1/BHSig260-Hindi/BHS...        1         6   \n",
       "1  ../../SiameseData/archive_1/BHSig260-Hindi/BHS...        1         6   \n",
       "2  ../../SiameseData/archive_1/BHSig260-Hindi/BHS...        1         6   \n",
       "3  ../../SiameseData/archive_1/BHSig260-Hindi/BHS...        1         6   \n",
       "4  ../../SiameseData/archive_1/BHSig260-Hindi/BHS...        1         6   \n",
       "\n",
       "                                         forged_path  forged_id  forged_idx  \\\n",
       "0  ../../SiameseData/archive_1/BHSig260-Hindi/BHS...          1          18   \n",
       "1  ../../SiameseData/archive_1/BHSig260-Hindi/BHS...          1           1   \n",
       "2  ../../SiameseData/archive_1/BHSig260-Hindi/BHS...          1           2   \n",
       "3  ../../SiameseData/archive_1/BHSig260-Hindi/BHS...          1           3   \n",
       "4  ../../SiameseData/archive_1/BHSig260-Hindi/BHS...          1           4   \n",
       "\n",
       "    data  \n",
       "0  hindi  \n",
       "1  hindi  \n",
       "2  hindi  \n",
       "3  hindi  \n",
       "4  hindi  "
      ]
     },
     "execution_count": 64,
     "metadata": {},
     "output_type": "execute_result"
    }
   ],
   "source": [
    "df2=real_df.merge(forged_df,left_on='real_id',right_on='forged_id',how='inner')\n",
    "df2['data']='hindi'\n",
    "print(len(df2))\n",
    "df2.head()"
   ]
  },
  {
   "cell_type": "markdown",
   "id": "5824722a",
   "metadata": {},
   "source": [
    "# CEDAR"
   ]
  },
  {
   "cell_type": "code",
   "execution_count": 65,
   "id": "e0729e8c",
   "metadata": {},
   "outputs": [
    {
     "name": "stdout",
     "output_type": "stream",
     "text": [
      "1   12\t15  18\t20  23\t26  29\t31  34\t37  4\t42  45\t48  50\t53  6  9\r\n",
      "10  13\t16  19\t21  24\t27  3\t32  35\t38  40\t43  46\t49  51\t54  7\r\n",
      "11  14\t17  2\t22  25\t28  30\t33  36\t39  41\t44  47\t5   52\t55  8\r\n"
     ]
    }
   ],
   "source": [
    "!ls ../../archive_1/CEDAR/CEDAR"
   ]
  },
  {
   "cell_type": "code",
   "execution_count": 66,
   "id": "b908c987",
   "metadata": {},
   "outputs": [
    {
     "name": "stdout",
     "output_type": "stream",
     "text": [
      "1320 1319\n"
     ]
    }
   ],
   "source": [
    "data=glob('../../archive_1/CEDAR/CEDAR/*/*.png')\n",
    "real=[i for i in data if 'original' in i]\n",
    "forged=[i for i in data if 'forgeries' in i]\n",
    "forged=convert2jpg(forged)\n",
    "real=convert2jpg(real)\n",
    "print(len(forged),len(real))\n"
   ]
  },
  {
   "cell_type": "code",
   "execution_count": 67,
   "id": "6b0d3417",
   "metadata": {},
   "outputs": [
    {
     "data": {
      "text/plain": [
       "'3'"
      ]
     },
     "execution_count": 67,
     "metadata": {},
     "output_type": "execute_result"
    }
   ],
   "source": [
    "forged[0].split('_')[-2]"
   ]
  },
  {
   "cell_type": "code",
   "execution_count": 68,
   "id": "871d2879",
   "metadata": {},
   "outputs": [
    {
     "data": {
      "text/plain": [
       "'24'"
      ]
     },
     "execution_count": 68,
     "metadata": {},
     "output_type": "execute_result"
    }
   ],
   "source": [
    "forged[0].split('_')[-1].split('.')[-2]"
   ]
  },
  {
   "cell_type": "code",
   "execution_count": 69,
   "id": "dfa6e383",
   "metadata": {},
   "outputs": [
    {
     "name": "stdout",
     "output_type": "stream",
     "text": [
      "1319\n"
     ]
    },
    {
     "data": {
      "text/html": [
       "<div>\n",
       "<style scoped>\n",
       "    .dataframe tbody tr th:only-of-type {\n",
       "        vertical-align: middle;\n",
       "    }\n",
       "\n",
       "    .dataframe tbody tr th {\n",
       "        vertical-align: top;\n",
       "    }\n",
       "\n",
       "    .dataframe thead th {\n",
       "        text-align: right;\n",
       "    }\n",
       "</style>\n",
       "<table border=\"1\" class=\"dataframe\">\n",
       "  <thead>\n",
       "    <tr style=\"text-align: right;\">\n",
       "      <th></th>\n",
       "      <th>real_path</th>\n",
       "      <th>real_id</th>\n",
       "      <th>real_idx</th>\n",
       "    </tr>\n",
       "  </thead>\n",
       "  <tbody>\n",
       "    <tr>\n",
       "      <th>0</th>\n",
       "      <td>../../SiameseData/archive_1/CEDAR/CEDAR/3/orig...</td>\n",
       "      <td>3</td>\n",
       "      <td>1</td>\n",
       "    </tr>\n",
       "    <tr>\n",
       "      <th>1</th>\n",
       "      <td>../../SiameseData/archive_1/CEDAR/CEDAR/3/orig...</td>\n",
       "      <td>3</td>\n",
       "      <td>10</td>\n",
       "    </tr>\n",
       "    <tr>\n",
       "      <th>2</th>\n",
       "      <td>../../SiameseData/archive_1/CEDAR/CEDAR/3/orig...</td>\n",
       "      <td>3</td>\n",
       "      <td>11</td>\n",
       "    </tr>\n",
       "    <tr>\n",
       "      <th>3</th>\n",
       "      <td>../../SiameseData/archive_1/CEDAR/CEDAR/3/orig...</td>\n",
       "      <td>3</td>\n",
       "      <td>12</td>\n",
       "    </tr>\n",
       "    <tr>\n",
       "      <th>4</th>\n",
       "      <td>../../SiameseData/archive_1/CEDAR/CEDAR/3/orig...</td>\n",
       "      <td>3</td>\n",
       "      <td>13</td>\n",
       "    </tr>\n",
       "  </tbody>\n",
       "</table>\n",
       "</div>"
      ],
      "text/plain": [
       "                                           real_path  real_id  real_idx\n",
       "0  ../../SiameseData/archive_1/CEDAR/CEDAR/3/orig...        3         1\n",
       "1  ../../SiameseData/archive_1/CEDAR/CEDAR/3/orig...        3        10\n",
       "2  ../../SiameseData/archive_1/CEDAR/CEDAR/3/orig...        3        11\n",
       "3  ../../SiameseData/archive_1/CEDAR/CEDAR/3/orig...        3        12\n",
       "4  ../../SiameseData/archive_1/CEDAR/CEDAR/3/orig...        3        13"
      ]
     },
     "execution_count": 69,
     "metadata": {},
     "output_type": "execute_result"
    }
   ],
   "source": [
    "real_df=pd.DataFrame(real,columns=['real_path'])\n",
    "real_df['real_id']=real_df.real_path.apply(lambda x:x.split('_')[-2]).astype(int)\n",
    "real_df['real_idx']=real_df.real_path.apply(lambda x:x.split('_')[-1].split('.')[-2]).astype(int)\n",
    "print(len(real_df))\n",
    "\n",
    "real_df.head()"
   ]
  },
  {
   "cell_type": "code",
   "execution_count": 70,
   "id": "b75a0c2c",
   "metadata": {},
   "outputs": [
    {
     "name": "stdout",
     "output_type": "stream",
     "text": [
      "1320\n"
     ]
    },
    {
     "data": {
      "text/html": [
       "<div>\n",
       "<style scoped>\n",
       "    .dataframe tbody tr th:only-of-type {\n",
       "        vertical-align: middle;\n",
       "    }\n",
       "\n",
       "    .dataframe tbody tr th {\n",
       "        vertical-align: top;\n",
       "    }\n",
       "\n",
       "    .dataframe thead th {\n",
       "        text-align: right;\n",
       "    }\n",
       "</style>\n",
       "<table border=\"1\" class=\"dataframe\">\n",
       "  <thead>\n",
       "    <tr style=\"text-align: right;\">\n",
       "      <th></th>\n",
       "      <th>forged_path</th>\n",
       "      <th>forged_id</th>\n",
       "      <th>forged_idx</th>\n",
       "    </tr>\n",
       "  </thead>\n",
       "  <tbody>\n",
       "    <tr>\n",
       "      <th>0</th>\n",
       "      <td>../../SiameseData/archive_1/CEDAR/CEDAR/3/forg...</td>\n",
       "      <td>3</td>\n",
       "      <td>24</td>\n",
       "    </tr>\n",
       "    <tr>\n",
       "      <th>1</th>\n",
       "      <td>../../SiameseData/archive_1/CEDAR/CEDAR/3/forg...</td>\n",
       "      <td>3</td>\n",
       "      <td>1</td>\n",
       "    </tr>\n",
       "    <tr>\n",
       "      <th>2</th>\n",
       "      <td>../../SiameseData/archive_1/CEDAR/CEDAR/3/forg...</td>\n",
       "      <td>3</td>\n",
       "      <td>10</td>\n",
       "    </tr>\n",
       "    <tr>\n",
       "      <th>3</th>\n",
       "      <td>../../SiameseData/archive_1/CEDAR/CEDAR/3/forg...</td>\n",
       "      <td>3</td>\n",
       "      <td>11</td>\n",
       "    </tr>\n",
       "    <tr>\n",
       "      <th>4</th>\n",
       "      <td>../../SiameseData/archive_1/CEDAR/CEDAR/3/forg...</td>\n",
       "      <td>3</td>\n",
       "      <td>12</td>\n",
       "    </tr>\n",
       "  </tbody>\n",
       "</table>\n",
       "</div>"
      ],
      "text/plain": [
       "                                         forged_path  forged_id  forged_idx\n",
       "0  ../../SiameseData/archive_1/CEDAR/CEDAR/3/forg...          3          24\n",
       "1  ../../SiameseData/archive_1/CEDAR/CEDAR/3/forg...          3           1\n",
       "2  ../../SiameseData/archive_1/CEDAR/CEDAR/3/forg...          3          10\n",
       "3  ../../SiameseData/archive_1/CEDAR/CEDAR/3/forg...          3          11\n",
       "4  ../../SiameseData/archive_1/CEDAR/CEDAR/3/forg...          3          12"
      ]
     },
     "execution_count": 70,
     "metadata": {},
     "output_type": "execute_result"
    }
   ],
   "source": [
    "forged_df=pd.DataFrame(forged,columns=['forged_path'])\n",
    "forged_df['forged_id']=forged_df.forged_path.apply(lambda x:x.split('_')[-2]).astype(int)\n",
    "forged_df['forged_idx']=forged_df.forged_path.apply(lambda x:x.split('_')[-1].split('.')[-2]).astype(int)\n",
    "print(len(forged_df))\n",
    "forged_df.head()"
   ]
  },
  {
   "cell_type": "code",
   "execution_count": 71,
   "id": "50c7245f",
   "metadata": {},
   "outputs": [
    {
     "name": "stdout",
     "output_type": "stream",
     "text": [
      "31656\n"
     ]
    }
   ],
   "source": [
    "df3=real_df.merge(forged_df,left_on='real_id',right_on='forged_id',how='inner')\n",
    "print(len(df3))\n",
    "df3['data']='cedar'"
   ]
  },
  {
   "cell_type": "code",
   "execution_count": 72,
   "id": "ab469367",
   "metadata": {},
   "outputs": [
    {
     "data": {
      "text/html": [
       "<div>\n",
       "<style scoped>\n",
       "    .dataframe tbody tr th:only-of-type {\n",
       "        vertical-align: middle;\n",
       "    }\n",
       "\n",
       "    .dataframe tbody tr th {\n",
       "        vertical-align: top;\n",
       "    }\n",
       "\n",
       "    .dataframe thead th {\n",
       "        text-align: right;\n",
       "    }\n",
       "</style>\n",
       "<table border=\"1\" class=\"dataframe\">\n",
       "  <thead>\n",
       "    <tr style=\"text-align: right;\">\n",
       "      <th></th>\n",
       "      <th>real_path</th>\n",
       "      <th>real_id</th>\n",
       "      <th>real_idx</th>\n",
       "      <th>forged_path</th>\n",
       "      <th>forged_id</th>\n",
       "      <th>forged_idx</th>\n",
       "      <th>data</th>\n",
       "    </tr>\n",
       "  </thead>\n",
       "  <tbody>\n",
       "    <tr>\n",
       "      <th>0</th>\n",
       "      <td>../../SiameseData/ICDAR2009/genuines/NFI-00201...</td>\n",
       "      <td>2</td>\n",
       "      <td>1</td>\n",
       "      <td>../../SiameseData/ICDAR2009/forgeries/NFI-0030...</td>\n",
       "      <td>2</td>\n",
       "      <td>1</td>\n",
       "      <td>icdar09</td>\n",
       "    </tr>\n",
       "    <tr>\n",
       "      <th>1</th>\n",
       "      <td>../../SiameseData/ICDAR2009/genuines/NFI-00201...</td>\n",
       "      <td>2</td>\n",
       "      <td>1</td>\n",
       "      <td>../../SiameseData/ICDAR2009/forgeries/NFI-0030...</td>\n",
       "      <td>2</td>\n",
       "      <td>2</td>\n",
       "      <td>icdar09</td>\n",
       "    </tr>\n",
       "    <tr>\n",
       "      <th>2</th>\n",
       "      <td>../../SiameseData/ICDAR2009/genuines/NFI-00201...</td>\n",
       "      <td>2</td>\n",
       "      <td>1</td>\n",
       "      <td>../../SiameseData/ICDAR2009/forgeries/NFI-0030...</td>\n",
       "      <td>2</td>\n",
       "      <td>3</td>\n",
       "      <td>icdar09</td>\n",
       "    </tr>\n",
       "    <tr>\n",
       "      <th>3</th>\n",
       "      <td>../../SiameseData/ICDAR2009/genuines/NFI-00201...</td>\n",
       "      <td>2</td>\n",
       "      <td>1</td>\n",
       "      <td>../../SiameseData/ICDAR2009/forgeries/NFI-0030...</td>\n",
       "      <td>2</td>\n",
       "      <td>4</td>\n",
       "      <td>icdar09</td>\n",
       "    </tr>\n",
       "    <tr>\n",
       "      <th>4</th>\n",
       "      <td>../../SiameseData/ICDAR2009/genuines/NFI-00201...</td>\n",
       "      <td>2</td>\n",
       "      <td>1</td>\n",
       "      <td>../../SiameseData/ICDAR2009/forgeries/NFI-0030...</td>\n",
       "      <td>2</td>\n",
       "      <td>5</td>\n",
       "      <td>icdar09</td>\n",
       "    </tr>\n",
       "  </tbody>\n",
       "</table>\n",
       "</div>"
      ],
      "text/plain": [
       "                                           real_path  real_id  real_idx  \\\n",
       "0  ../../SiameseData/ICDAR2009/genuines/NFI-00201...        2         1   \n",
       "1  ../../SiameseData/ICDAR2009/genuines/NFI-00201...        2         1   \n",
       "2  ../../SiameseData/ICDAR2009/genuines/NFI-00201...        2         1   \n",
       "3  ../../SiameseData/ICDAR2009/genuines/NFI-00201...        2         1   \n",
       "4  ../../SiameseData/ICDAR2009/genuines/NFI-00201...        2         1   \n",
       "\n",
       "                                         forged_path  forged_id  forged_idx  \\\n",
       "0  ../../SiameseData/ICDAR2009/forgeries/NFI-0030...          2           1   \n",
       "1  ../../SiameseData/ICDAR2009/forgeries/NFI-0030...          2           2   \n",
       "2  ../../SiameseData/ICDAR2009/forgeries/NFI-0030...          2           3   \n",
       "3  ../../SiameseData/ICDAR2009/forgeries/NFI-0030...          2           4   \n",
       "4  ../../SiameseData/ICDAR2009/forgeries/NFI-0030...          2           5   \n",
       "\n",
       "      data  \n",
       "0  icdar09  \n",
       "1  icdar09  \n",
       "2  icdar09  \n",
       "3  icdar09  \n",
       "4  icdar09  "
      ]
     },
     "execution_count": 72,
     "metadata": {},
     "output_type": "execute_result"
    }
   ],
   "source": [
    "df=pd.concat([df0,df,df1,df2,df3],axis=0)\n",
    "df.head()"
   ]
  },
  {
   "cell_type": "code",
   "execution_count": null,
   "id": "16104ebd",
   "metadata": {},
   "outputs": [],
   "source": []
  },
  {
   "cell_type": "code",
   "execution_count": 73,
   "id": "1b8b3e92",
   "metadata": {},
   "outputs": [
    {
     "name": "stdout",
     "output_type": "stream",
     "text": [
      "<class 'pandas.core.frame.DataFrame'>\n",
      "Int64Index: 356562 entries, 0 to 31655\n",
      "Data columns (total 7 columns):\n",
      " #   Column       Non-Null Count   Dtype \n",
      "---  ------       --------------   ----- \n",
      " 0   real_path    356562 non-null  object\n",
      " 1   real_id      356562 non-null  int64 \n",
      " 2   real_idx     356562 non-null  int64 \n",
      " 3   forged_path  356562 non-null  object\n",
      " 4   forged_id    356562 non-null  int64 \n",
      " 5   forged_idx   356562 non-null  int64 \n",
      " 6   data         356562 non-null  object\n",
      "dtypes: int64(4), object(3)\n",
      "memory usage: 21.8+ MB\n"
     ]
    }
   ],
   "source": [
    "df.info()"
   ]
  },
  {
   "cell_type": "code",
   "execution_count": 74,
   "id": "ca8d86dc",
   "metadata": {},
   "outputs": [],
   "source": [
    "df.to_csv('../csv/all_data.csv',index=False)"
   ]
  },
  {
   "cell_type": "code",
   "execution_count": null,
   "id": "8bbbb5df",
   "metadata": {},
   "outputs": [],
   "source": [
    "# test data"
   ]
  },
  {
   "cell_type": "code",
   "execution_count": 75,
   "id": "97aeabf2",
   "metadata": {},
   "outputs": [
    {
     "name": "stdout",
     "output_type": "stream",
     "text": [
      "forged\tgenuine\r\n"
     ]
    }
   ],
   "source": [
    "!ls ../../siamese-signature-verification/Dataset/001\n"
   ]
  },
  {
   "cell_type": "code",
   "execution_count": 76,
   "id": "c0361aee",
   "metadata": {},
   "outputs": [
    {
     "data": {
      "text/plain": [
       "300"
      ]
     },
     "execution_count": 76,
     "metadata": {},
     "output_type": "execute_result"
    }
   ],
   "source": [
    "real=glob('../../siamese-signature-verification/Dataset/*/genuine/*.png')\n",
    "forged=glob('../../siamese-signature-verification/Dataset/*/forged/*.png')\n",
    "len(real)+len(forged)"
   ]
  },
  {
   "cell_type": "code",
   "execution_count": 77,
   "id": "f39bb78e",
   "metadata": {},
   "outputs": [
    {
     "name": "stderr",
     "output_type": "stream",
     "text": [
      "libpng warning: iCCP: known incorrect sRGB profile\n",
      "libpng warning: iCCP: known incorrect sRGB profile\n",
      "libpng warning: iCCP: known incorrect sRGB profile\n",
      "libpng warning: iCCP: known incorrect sRGB profile\n",
      "libpng warning: iCCP: known incorrect sRGB profile\n",
      "libpng warning: iCCP: known incorrect sRGB profile\n",
      "libpng warning: iCCP: known incorrect sRGB profile\n",
      "libpng warning: iCCP: known incorrect sRGB profile\n",
      "libpng warning: iCCP: known incorrect sRGB profile\n",
      "libpng warning: iCCP: known incorrect sRGB profile\n",
      "libpng warning: iCCP: known incorrect sRGB profile\n",
      "libpng warning: iCCP: known incorrect sRGB profile\n",
      "libpng warning: iCCP: known incorrect sRGB profile\n",
      "libpng warning: iCCP: known incorrect sRGB profile\n",
      "libpng warning: iCCP: known incorrect sRGB profile\n",
      "libpng warning: iCCP: known incorrect sRGB profile\n",
      "libpng warning: iCCP: known incorrect sRGB profile\n",
      "libpng warning: iCCP: known incorrect sRGB profile\n",
      "libpng warning: iCCP: known incorrect sRGB profile\n",
      "libpng warning: iCCP: known incorrect sRGB profile\n"
     ]
    }
   ],
   "source": [
    "forged=convert2jpg(forged)\n",
    "real=convert2jpg(real)"
   ]
  },
  {
   "cell_type": "code",
   "execution_count": 78,
   "id": "f21e8726",
   "metadata": {},
   "outputs": [
    {
     "data": {
      "text/plain": [
       "'0'"
      ]
     },
     "execution_count": 78,
     "metadata": {},
     "output_type": "execute_result"
    }
   ],
   "source": [
    "real[0].split('/')[-1].split('.')[0]"
   ]
  },
  {
   "cell_type": "code",
   "execution_count": 79,
   "id": "7923d453",
   "metadata": {},
   "outputs": [
    {
     "name": "stdout",
     "output_type": "stream",
     "text": [
      "150\n"
     ]
    },
    {
     "data": {
      "text/html": [
       "<div>\n",
       "<style scoped>\n",
       "    .dataframe tbody tr th:only-of-type {\n",
       "        vertical-align: middle;\n",
       "    }\n",
       "\n",
       "    .dataframe tbody tr th {\n",
       "        vertical-align: top;\n",
       "    }\n",
       "\n",
       "    .dataframe thead th {\n",
       "        text-align: right;\n",
       "    }\n",
       "</style>\n",
       "<table border=\"1\" class=\"dataframe\">\n",
       "  <thead>\n",
       "    <tr style=\"text-align: right;\">\n",
       "      <th></th>\n",
       "      <th>real_path</th>\n",
       "      <th>real_id</th>\n",
       "      <th>real_idx</th>\n",
       "    </tr>\n",
       "  </thead>\n",
       "  <tbody>\n",
       "    <tr>\n",
       "      <th>0</th>\n",
       "      <td>../../SiameseData/siamese-signature-verificati...</td>\n",
       "      <td>1</td>\n",
       "      <td>0</td>\n",
       "    </tr>\n",
       "    <tr>\n",
       "      <th>1</th>\n",
       "      <td>../../SiameseData/siamese-signature-verificati...</td>\n",
       "      <td>1</td>\n",
       "      <td>1</td>\n",
       "    </tr>\n",
       "    <tr>\n",
       "      <th>2</th>\n",
       "      <td>../../SiameseData/siamese-signature-verificati...</td>\n",
       "      <td>1</td>\n",
       "      <td>2</td>\n",
       "    </tr>\n",
       "    <tr>\n",
       "      <th>3</th>\n",
       "      <td>../../SiameseData/siamese-signature-verificati...</td>\n",
       "      <td>1</td>\n",
       "      <td>3</td>\n",
       "    </tr>\n",
       "    <tr>\n",
       "      <th>4</th>\n",
       "      <td>../../SiameseData/siamese-signature-verificati...</td>\n",
       "      <td>1</td>\n",
       "      <td>4</td>\n",
       "    </tr>\n",
       "  </tbody>\n",
       "</table>\n",
       "</div>"
      ],
      "text/plain": [
       "                                           real_path  real_id  real_idx\n",
       "0  ../../SiameseData/siamese-signature-verificati...        1         0\n",
       "1  ../../SiameseData/siamese-signature-verificati...        1         1\n",
       "2  ../../SiameseData/siamese-signature-verificati...        1         2\n",
       "3  ../../SiameseData/siamese-signature-verificati...        1         3\n",
       "4  ../../SiameseData/siamese-signature-verificati...        1         4"
      ]
     },
     "execution_count": 79,
     "metadata": {},
     "output_type": "execute_result"
    }
   ],
   "source": [
    "real_df=pd.DataFrame(real,columns=['real_path'])\n",
    "real_df['real_id']=real_df.real_path.apply(lambda x:x.split('/')[-3]).astype(int)\n",
    "real_df['real_idx']=real_df.real_path.apply(lambda x:x.split('/')[-1].split('.')[0]).astype(int)\n",
    "print(len(real_df))\n",
    "\n",
    "real_df.head()"
   ]
  },
  {
   "cell_type": "code",
   "execution_count": 80,
   "id": "e71a553a",
   "metadata": {},
   "outputs": [
    {
     "name": "stdout",
     "output_type": "stream",
     "text": [
      "150\n"
     ]
    },
    {
     "data": {
      "text/html": [
       "<div>\n",
       "<style scoped>\n",
       "    .dataframe tbody tr th:only-of-type {\n",
       "        vertical-align: middle;\n",
       "    }\n",
       "\n",
       "    .dataframe tbody tr th {\n",
       "        vertical-align: top;\n",
       "    }\n",
       "\n",
       "    .dataframe thead th {\n",
       "        text-align: right;\n",
       "    }\n",
       "</style>\n",
       "<table border=\"1\" class=\"dataframe\">\n",
       "  <thead>\n",
       "    <tr style=\"text-align: right;\">\n",
       "      <th></th>\n",
       "      <th>forged_path</th>\n",
       "      <th>forged_id</th>\n",
       "      <th>forged_idx</th>\n",
       "    </tr>\n",
       "  </thead>\n",
       "  <tbody>\n",
       "    <tr>\n",
       "      <th>0</th>\n",
       "      <td>../../SiameseData/siamese-signature-verificati...</td>\n",
       "      <td>1</td>\n",
       "      <td>0</td>\n",
       "    </tr>\n",
       "    <tr>\n",
       "      <th>1</th>\n",
       "      <td>../../SiameseData/siamese-signature-verificati...</td>\n",
       "      <td>1</td>\n",
       "      <td>1</td>\n",
       "    </tr>\n",
       "    <tr>\n",
       "      <th>2</th>\n",
       "      <td>../../SiameseData/siamese-signature-verificati...</td>\n",
       "      <td>1</td>\n",
       "      <td>2</td>\n",
       "    </tr>\n",
       "    <tr>\n",
       "      <th>3</th>\n",
       "      <td>../../SiameseData/siamese-signature-verificati...</td>\n",
       "      <td>1</td>\n",
       "      <td>3</td>\n",
       "    </tr>\n",
       "    <tr>\n",
       "      <th>4</th>\n",
       "      <td>../../SiameseData/siamese-signature-verificati...</td>\n",
       "      <td>1</td>\n",
       "      <td>4</td>\n",
       "    </tr>\n",
       "  </tbody>\n",
       "</table>\n",
       "</div>"
      ],
      "text/plain": [
       "                                         forged_path  forged_id  forged_idx\n",
       "0  ../../SiameseData/siamese-signature-verificati...          1           0\n",
       "1  ../../SiameseData/siamese-signature-verificati...          1           1\n",
       "2  ../../SiameseData/siamese-signature-verificati...          1           2\n",
       "3  ../../SiameseData/siamese-signature-verificati...          1           3\n",
       "4  ../../SiameseData/siamese-signature-verificati...          1           4"
      ]
     },
     "execution_count": 80,
     "metadata": {},
     "output_type": "execute_result"
    }
   ],
   "source": [
    "forged_df=pd.DataFrame(forged,columns=['forged_path'])\n",
    "forged_df['forged_id']=forged_df.forged_path.apply(lambda x:x.split('/')[-3]).astype(int)\n",
    "forged_df['forged_idx']=forged_df.forged_path.apply(lambda x:x.split('/')[-1].split('.')[0]).astype(int)\n",
    "print(len(forged_df))\n",
    "forged_df.head()"
   ]
  },
  {
   "cell_type": "code",
   "execution_count": 81,
   "id": "9ee64193",
   "metadata": {},
   "outputs": [
    {
     "name": "stdout",
     "output_type": "stream",
     "text": [
      "750\n"
     ]
    },
    {
     "data": {
      "text/html": [
       "<div>\n",
       "<style scoped>\n",
       "    .dataframe tbody tr th:only-of-type {\n",
       "        vertical-align: middle;\n",
       "    }\n",
       "\n",
       "    .dataframe tbody tr th {\n",
       "        vertical-align: top;\n",
       "    }\n",
       "\n",
       "    .dataframe thead th {\n",
       "        text-align: right;\n",
       "    }\n",
       "</style>\n",
       "<table border=\"1\" class=\"dataframe\">\n",
       "  <thead>\n",
       "    <tr style=\"text-align: right;\">\n",
       "      <th></th>\n",
       "      <th>real_path</th>\n",
       "      <th>real_id</th>\n",
       "      <th>real_idx</th>\n",
       "      <th>forged_path</th>\n",
       "      <th>forged_id</th>\n",
       "      <th>forged_idx</th>\n",
       "      <th>data</th>\n",
       "    </tr>\n",
       "  </thead>\n",
       "  <tbody>\n",
       "    <tr>\n",
       "      <th>0</th>\n",
       "      <td>../../SiameseData/siamese-signature-verificati...</td>\n",
       "      <td>1</td>\n",
       "      <td>0</td>\n",
       "      <td>../../SiameseData/siamese-signature-verificati...</td>\n",
       "      <td>1</td>\n",
       "      <td>0</td>\n",
       "      <td>test</td>\n",
       "    </tr>\n",
       "    <tr>\n",
       "      <th>1</th>\n",
       "      <td>../../SiameseData/siamese-signature-verificati...</td>\n",
       "      <td>1</td>\n",
       "      <td>0</td>\n",
       "      <td>../../SiameseData/siamese-signature-verificati...</td>\n",
       "      <td>1</td>\n",
       "      <td>1</td>\n",
       "      <td>test</td>\n",
       "    </tr>\n",
       "    <tr>\n",
       "      <th>2</th>\n",
       "      <td>../../SiameseData/siamese-signature-verificati...</td>\n",
       "      <td>1</td>\n",
       "      <td>0</td>\n",
       "      <td>../../SiameseData/siamese-signature-verificati...</td>\n",
       "      <td>1</td>\n",
       "      <td>2</td>\n",
       "      <td>test</td>\n",
       "    </tr>\n",
       "    <tr>\n",
       "      <th>3</th>\n",
       "      <td>../../SiameseData/siamese-signature-verificati...</td>\n",
       "      <td>1</td>\n",
       "      <td>0</td>\n",
       "      <td>../../SiameseData/siamese-signature-verificati...</td>\n",
       "      <td>1</td>\n",
       "      <td>3</td>\n",
       "      <td>test</td>\n",
       "    </tr>\n",
       "    <tr>\n",
       "      <th>4</th>\n",
       "      <td>../../SiameseData/siamese-signature-verificati...</td>\n",
       "      <td>1</td>\n",
       "      <td>0</td>\n",
       "      <td>../../SiameseData/siamese-signature-verificati...</td>\n",
       "      <td>1</td>\n",
       "      <td>4</td>\n",
       "      <td>test</td>\n",
       "    </tr>\n",
       "  </tbody>\n",
       "</table>\n",
       "</div>"
      ],
      "text/plain": [
       "                                           real_path  real_id  real_idx  \\\n",
       "0  ../../SiameseData/siamese-signature-verificati...        1         0   \n",
       "1  ../../SiameseData/siamese-signature-verificati...        1         0   \n",
       "2  ../../SiameseData/siamese-signature-verificati...        1         0   \n",
       "3  ../../SiameseData/siamese-signature-verificati...        1         0   \n",
       "4  ../../SiameseData/siamese-signature-verificati...        1         0   \n",
       "\n",
       "                                         forged_path  forged_id  forged_idx  \\\n",
       "0  ../../SiameseData/siamese-signature-verificati...          1           0   \n",
       "1  ../../SiameseData/siamese-signature-verificati...          1           1   \n",
       "2  ../../SiameseData/siamese-signature-verificati...          1           2   \n",
       "3  ../../SiameseData/siamese-signature-verificati...          1           3   \n",
       "4  ../../SiameseData/siamese-signature-verificati...          1           4   \n",
       "\n",
       "   data  \n",
       "0  test  \n",
       "1  test  \n",
       "2  test  \n",
       "3  test  \n",
       "4  test  "
      ]
     },
     "execution_count": 81,
     "metadata": {},
     "output_type": "execute_result"
    }
   ],
   "source": [
    "test_df=real_df.merge(forged_df,left_on='real_id',right_on='forged_id',how='inner')\n",
    "test_df['data']='test'\n",
    "print(len(test_df))\n",
    "test_df.head()"
   ]
  },
  {
   "cell_type": "code",
   "execution_count": 82,
   "id": "13dc318c",
   "metadata": {},
   "outputs": [],
   "source": [
    "test_df.to_csv('../csv/test_data.csv',index=False)"
   ]
  },
  {
   "cell_type": "code",
   "execution_count": null,
   "id": "1e91590a",
   "metadata": {},
   "outputs": [],
   "source": []
  }
 ],
 "metadata": {
  "kernelspec": {
   "display_name": "Python 3 (ipykernel)",
   "language": "python",
   "name": "python3"
  },
  "language_info": {
   "codemirror_mode": {
    "name": "ipython",
    "version": 3
   },
   "file_extension": ".py",
   "mimetype": "text/x-python",
   "name": "python",
   "nbconvert_exporter": "python",
   "pygments_lexer": "ipython3",
   "version": "3.8.10"
  }
 },
 "nbformat": 4,
 "nbformat_minor": 5
}
